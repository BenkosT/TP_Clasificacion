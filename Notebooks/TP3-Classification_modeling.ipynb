{
 "cells": [
  {
   "cell_type": "code",
   "execution_count": 1,
   "id": "958e5d4e",
   "metadata": {},
   "outputs": [],
   "source": [
    "import pandas as pd\n",
    "import numpy as np\n",
    "import seaborn as sns\n",
    "import matplotlib.pyplot as plt"
   ]
  },
  {
   "cell_type": "code",
   "execution_count": 2,
   "id": "5093b7de",
   "metadata": {},
   "outputs": [
    {
     "data": {
      "text/html": [
       "<div>\n",
       "<style scoped>\n",
       "    .dataframe tbody tr th:only-of-type {\n",
       "        vertical-align: middle;\n",
       "    }\n",
       "\n",
       "    .dataframe tbody tr th {\n",
       "        vertical-align: top;\n",
       "    }\n",
       "\n",
       "    .dataframe thead th {\n",
       "        text-align: right;\n",
       "    }\n",
       "</style>\n",
       "<table border=\"1\" class=\"dataframe\">\n",
       "  <thead>\n",
       "    <tr style=\"text-align: right;\">\n",
       "      <th></th>\n",
       "      <th>age</th>\n",
       "      <th>job</th>\n",
       "      <th>marital</th>\n",
       "      <th>education</th>\n",
       "      <th>default</th>\n",
       "      <th>housing</th>\n",
       "      <th>loan</th>\n",
       "      <th>contact</th>\n",
       "      <th>month</th>\n",
       "      <th>day_of_week</th>\n",
       "      <th>...</th>\n",
       "      <th>campaign</th>\n",
       "      <th>pdays</th>\n",
       "      <th>previous</th>\n",
       "      <th>poutcome</th>\n",
       "      <th>emp.var.rate</th>\n",
       "      <th>cons.price.idx</th>\n",
       "      <th>cons.conf.idx</th>\n",
       "      <th>euribor3m</th>\n",
       "      <th>nr.employed</th>\n",
       "      <th>y</th>\n",
       "    </tr>\n",
       "  </thead>\n",
       "  <tbody>\n",
       "    <tr>\n",
       "      <th>0</th>\n",
       "      <td>56</td>\n",
       "      <td>housemaid</td>\n",
       "      <td>married</td>\n",
       "      <td>basic.4y</td>\n",
       "      <td>no</td>\n",
       "      <td>no</td>\n",
       "      <td>no</td>\n",
       "      <td>telephone</td>\n",
       "      <td>may</td>\n",
       "      <td>mon</td>\n",
       "      <td>...</td>\n",
       "      <td>1</td>\n",
       "      <td>999</td>\n",
       "      <td>0</td>\n",
       "      <td>nonexistent</td>\n",
       "      <td>1.1</td>\n",
       "      <td>93.994</td>\n",
       "      <td>-36.4</td>\n",
       "      <td>4.857</td>\n",
       "      <td>5191.0</td>\n",
       "      <td>no</td>\n",
       "    </tr>\n",
       "    <tr>\n",
       "      <th>1</th>\n",
       "      <td>57</td>\n",
       "      <td>services</td>\n",
       "      <td>married</td>\n",
       "      <td>high.school</td>\n",
       "      <td>unknown</td>\n",
       "      <td>no</td>\n",
       "      <td>no</td>\n",
       "      <td>telephone</td>\n",
       "      <td>may</td>\n",
       "      <td>mon</td>\n",
       "      <td>...</td>\n",
       "      <td>1</td>\n",
       "      <td>999</td>\n",
       "      <td>0</td>\n",
       "      <td>nonexistent</td>\n",
       "      <td>1.1</td>\n",
       "      <td>93.994</td>\n",
       "      <td>-36.4</td>\n",
       "      <td>4.857</td>\n",
       "      <td>5191.0</td>\n",
       "      <td>no</td>\n",
       "    </tr>\n",
       "    <tr>\n",
       "      <th>2</th>\n",
       "      <td>37</td>\n",
       "      <td>services</td>\n",
       "      <td>married</td>\n",
       "      <td>high.school</td>\n",
       "      <td>no</td>\n",
       "      <td>yes</td>\n",
       "      <td>no</td>\n",
       "      <td>telephone</td>\n",
       "      <td>may</td>\n",
       "      <td>mon</td>\n",
       "      <td>...</td>\n",
       "      <td>1</td>\n",
       "      <td>999</td>\n",
       "      <td>0</td>\n",
       "      <td>nonexistent</td>\n",
       "      <td>1.1</td>\n",
       "      <td>93.994</td>\n",
       "      <td>-36.4</td>\n",
       "      <td>4.857</td>\n",
       "      <td>5191.0</td>\n",
       "      <td>no</td>\n",
       "    </tr>\n",
       "  </tbody>\n",
       "</table>\n",
       "<p>3 rows × 21 columns</p>\n",
       "</div>"
      ],
      "text/plain": [
       "   age        job  marital    education  default housing loan    contact  \\\n",
       "0   56  housemaid  married     basic.4y       no      no   no  telephone   \n",
       "1   57   services  married  high.school  unknown      no   no  telephone   \n",
       "2   37   services  married  high.school       no     yes   no  telephone   \n",
       "\n",
       "  month day_of_week  ...  campaign  pdays  previous     poutcome emp.var.rate  \\\n",
       "0   may         mon  ...         1    999         0  nonexistent          1.1   \n",
       "1   may         mon  ...         1    999         0  nonexistent          1.1   \n",
       "2   may         mon  ...         1    999         0  nonexistent          1.1   \n",
       "\n",
       "   cons.price.idx  cons.conf.idx  euribor3m  nr.employed   y  \n",
       "0          93.994          -36.4      4.857       5191.0  no  \n",
       "1          93.994          -36.4      4.857       5191.0  no  \n",
       "2          93.994          -36.4      4.857       5191.0  no  \n",
       "\n",
       "[3 rows x 21 columns]"
      ]
     },
     "execution_count": 2,
     "metadata": {},
     "output_type": "execute_result"
    }
   ],
   "source": [
    "data = pd.read_csv(\"../Data/bank-additional-full.csv\", sep = \";\")\n",
    "data.head(3)"
   ]
  },
  {
   "cell_type": "code",
   "execution_count": 3,
   "id": "453cb930",
   "metadata": {},
   "outputs": [
    {
     "data": {
      "text/plain": [
       "no     36548\n",
       "yes     4640\n",
       "Name: y, dtype: int64"
      ]
     },
     "execution_count": 3,
     "metadata": {},
     "output_type": "execute_result"
    }
   ],
   "source": [
    "data.y.value_counts()"
   ]
  },
  {
   "cell_type": "markdown",
   "id": "8fdf7db9",
   "metadata": {},
   "source": [
    "# Preparación del dataset"
   ]
  },
  {
   "cell_type": "markdown",
   "id": "51a90f2c",
   "metadata": {},
   "source": [
    "## Preparación en train y test"
   ]
  },
  {
   "cell_type": "markdown",
   "id": "a35981ef",
   "metadata": {},
   "source": [
    "**Seleccion de variable target**"
   ]
  },
  {
   "cell_type": "code",
   "execution_count": 4,
   "id": "0f3aeaf6",
   "metadata": {},
   "outputs": [],
   "source": [
    "y = data.y\n",
    "X = data.drop([\"y\"], axis = 1)"
   ]
  },
  {
   "cell_type": "code",
   "execution_count": 5,
   "id": "ea6369c9",
   "metadata": {},
   "outputs": [],
   "source": [
    "from sklearn.model_selection import train_test_split\n",
    "\n",
    "X_train, X_test, y_train, y_test = train_test_split(X, y, test_size = 0.2, random_state = 161, stratify= y)"
   ]
  },
  {
   "cell_type": "code",
   "execution_count": 6,
   "id": "a2da1d9e",
   "metadata": {},
   "outputs": [
    {
     "data": {
      "text/plain": [
       "no     0.887344\n",
       "yes    0.112656\n",
       "Name: y, dtype: float64"
      ]
     },
     "metadata": {},
     "output_type": "display_data"
    },
    {
     "data": {
      "text/plain": [
       "no     0.887351\n",
       "yes    0.112649\n",
       "Name: y, dtype: float64"
      ]
     },
     "metadata": {},
     "output_type": "display_data"
    }
   ],
   "source": [
    "display(y_train.value_counts(normalize=True))\n",
    "display(y_test.value_counts(normalize=True))"
   ]
  },
  {
   "cell_type": "code",
   "execution_count": 7,
   "id": "47d502d1",
   "metadata": {},
   "outputs": [],
   "source": [
    "from sklearn import preprocessing\n",
    "\n",
    "le = preprocessing.LabelEncoder()\n",
    "y_train = le.fit_transform(y_train)\n",
    "y_test = le.transform(y_test)"
   ]
  },
  {
   "cell_type": "markdown",
   "id": "72de5d88",
   "metadata": {},
   "source": [
    "**Data train y test sin undersampling**"
   ]
  },
  {
   "cell_type": "code",
   "execution_count": 8,
   "id": "211e161d",
   "metadata": {},
   "outputs": [],
   "source": [
    "# Selección de la data de train y test en tipo numérica y categórica\n",
    "X_train_numerical = X_train.select_dtypes(exclude = \"object\")\n",
    "X_test_numerical = X_test.select_dtypes(exclude = \"object\")\n",
    "\n",
    "X_train_categorical = X_train.select_dtypes(include='object')\n",
    "X_test_categorical = X_test.select_dtypes(include='object')\n",
    "\n",
    "# Transformación de data de train y test categórica en numérica con OneHotEncoder\n",
    "from sklearn.preprocessing import OneHotEncoder\n",
    "\n",
    "OH_encoder = OneHotEncoder(handle_unknown = \"ignore\", sparse = False)\n",
    "X_train_categorical_OH =  pd.DataFrame (OH_encoder.fit_transform(X_train_categorical))\n",
    "X_train_categorical_OH.index = X_train_categorical.index\n",
    "\n",
    "X_test_categorical_OH = pd.DataFrame (OH_encoder.transform(X_test_categorical))\n",
    "X_test_categorical_OH.index = X_test_categorical.index\n",
    "\n",
    "# Estandarización de variables\n",
    "from sklearn.preprocessing import StandardScaler\n",
    "sc_X = StandardScaler()\n",
    "X_train_numerical_std = pd.DataFrame(sc_X.fit_transform(X_train_numerical))\n",
    "X_train_numerical_std.index = X_train_numerical.index\n",
    "\n",
    "X_test_numerical_std = pd.DataFrame(sc_X.transform(X_test_numerical))\n",
    "X_test_numerical_std.index = X_test_numerical.index\n",
    "\n",
    "\n",
    "# Concatenación de data numerica con categórica transformada con OneHotEncoder sin estandarizar\n",
    "X_train = pd.concat([X_train_numerical, X_train_categorical_OH], axis = 1)\n",
    "X_test = pd.concat([X_test_numerical, X_test_categorical_OH], axis = 1)\n",
    "\n",
    "# Concatenación de data numerica con categórica transformada con OneHotEncoder estandarizada\n",
    "X_train_std = pd.concat([X_train_numerical_std, X_train_categorical_OH], axis = 1)\n",
    "X_test_std = pd.concat([X_test_numerical_std, X_test_categorical_OH], axis = 1)"
   ]
  },
  {
   "cell_type": "markdown",
   "id": "5185f288",
   "metadata": {},
   "source": [
    "**Data train y test con undersampling**"
   ]
  },
  {
   "cell_type": "code",
   "execution_count": 9,
   "id": "eb68ed3a",
   "metadata": {},
   "outputs": [],
   "source": [
    "# Balanceado de clases de target con RandomUnderSampler\n",
    "from imblearn.under_sampling import RandomUnderSampler\n",
    "undersampler = RandomUnderSampler(sampling_strategy= 0.3 ,random_state=123); # iguala las clases\n",
    "X_train_us,y_train_us = undersampler.fit_resample(X_train,y_train)\n",
    "\n",
    "# Selección de la data de train y test en tipo numérica y categórica\n",
    "X_train_numerical_us = X_train_us.select_dtypes(exclude = \"object\")\n",
    "X_test_numerical_us = X_test.select_dtypes(exclude = \"object\")\n",
    "\n",
    "X_train_categorical_us = X_train_us.select_dtypes(include='object')\n",
    "X_test_categorical_us = X_test.select_dtypes(include='object')\n",
    "\n",
    "# Transformación de data de train y test categórica en numérica con OneHotEncoder\n",
    "from sklearn.preprocessing import OneHotEncoder\n",
    "\n",
    "OH_encoder = OneHotEncoder(handle_unknown = \"ignore\", sparse = False)\n",
    "X_train_categorical_us_OH =  pd.DataFrame (OH_encoder.fit_transform(X_train_categorical_us))\n",
    "X_train_categorical_us_OH.index = X_train_categorical_us.index\n",
    "\n",
    "X_test_categorical_us_OH = pd.DataFrame (OH_encoder.transform(X_test_categorical_us))\n",
    "X_test_categorical_us_OH.index = X_test_categorical_us.index\n",
    "\n",
    "#Estandarización de variables\n",
    "from sklearn.preprocessing import StandardScaler\n",
    "sc_X = StandardScaler()\n",
    "X_train_numerical_us_std = pd.DataFrame(sc_X.fit_transform(X_train_numerical_us))\n",
    "X_train_numerical_us_std.index = X_train_numerical_us.index\n",
    "\n",
    "X_test_numerical_us_std = pd.DataFrame(sc_X.transform(X_test_numerical_us))\n",
    "X_test_numerical_us_std.index = X_test_numerical_us.index\n",
    "\n",
    "# Concatenación de data numerica con categórica transformada con OneHotEncoder sin estandarizar\n",
    "X_train_us = pd.concat([X_train_numerical_us, X_train_categorical_us_OH], axis = 1)\n",
    "X_test_us = pd.concat([X_test_numerical_us, X_test_categorical_us_OH], axis = 1)\n",
    "\n",
    "# Concatenación de data numerica con categórica transformada con OneHotEncoder estandarizada\n",
    "X_train_us_std = pd.concat([X_train_numerical_us_std, X_train_categorical_us_OH], axis = 1)\n",
    "X_test_us_std = pd.concat([X_test_numerical_us_std, X_test_categorical_us_OH], axis = 1)"
   ]
  },
  {
   "cell_type": "markdown",
   "id": "8b478f7e",
   "metadata": {},
   "source": [
    "## **Logistic regression**"
   ]
  },
  {
   "cell_type": "code",
   "execution_count": 10,
   "id": "6c4c3237",
   "metadata": {},
   "outputs": [],
   "source": [
    "from sklearn.model_selection import KFold\n",
    "from sklearn.model_selection import cross_val_score\n",
    "from sklearn.metrics import confusion_matrix, accuracy_score, roc_auc_score\n",
    "k_fold = KFold(n_splits=2, shuffle=True, random_state=0)"
   ]
  },
  {
   "cell_type": "code",
   "execution_count": 11,
   "id": "e91a84c2",
   "metadata": {},
   "outputs": [
    {
     "name": "stdout",
     "output_type": "stream",
     "text": [
      "[[6861  449]\n",
      " [ 316  612]]\n",
      "0.7990300250011791\n",
      "0.8020196837803115\n"
     ]
    },
    {
     "data": {
      "text/plain": [
       "0.9364339266780275"
      ]
     },
     "execution_count": 11,
     "metadata": {},
     "output_type": "execute_result"
    }
   ],
   "source": [
    "from sklearn.linear_model import LogisticRegression\n",
    "logmodel = LogisticRegression(max_iter=1e3) \n",
    "logmodel.fit(X_train_us_std,y_train_us)\n",
    "\n",
    "logpredtrain = logmodel.predict(X_train_us_std)\n",
    "logpred = logmodel.predict(X_test_us_std)\n",
    "\n",
    "print(confusion_matrix(y_test, logpred))\n",
    "print(roc_auc_score(y_test, logpred))\n",
    "print(roc_auc_score(y_train_us,logpredtrain))\n",
    "LOGCV = (cross_val_score(logmodel, X_train_us_std, y_train_us, cv=k_fold, n_jobs=1, scoring = 'roc_auc').mean())\n",
    "LOGCV"
   ]
  },
  {
   "cell_type": "code",
   "execution_count": 12,
   "id": "a908a9a6",
   "metadata": {},
   "outputs": [
    {
     "data": {
      "text/plain": [
       "4511.0"
      ]
     },
     "metadata": {},
     "output_type": "display_data"
    },
    {
     "data": {
      "text/plain": [
       "3186"
      ]
     },
     "metadata": {},
     "output_type": "display_data"
    },
    {
     "name": "stdout",
     "output_type": "stream",
     "text": [
      "Matrix Original\n"
     ]
    },
    {
     "data": {
      "text/plain": [
       "array([[11647,   726],\n",
       "       [ 1252,  2460]], dtype=int64)"
      ]
     },
     "metadata": {},
     "output_type": "display_data"
    },
    {
     "name": "stdout",
     "output_type": "stream",
     "text": [
      "\n",
      "Nueva Matrix\n"
     ]
    },
    {
     "data": {
      "text/plain": [
       "array([[10929,  1444],\n",
       "       [  645,  3067]], dtype=int64)"
      ]
     },
     "metadata": {},
     "output_type": "display_data"
    }
   ],
   "source": [
    "y_pred_proba = logmodel.predict_proba(X_train_us_std)\n",
    "from sklearn.preprocessing import binarize\n",
    "y_pred_03 = binarize(y_pred_proba, threshold=0.3)[:,1]\n",
    "display(y_pred_03.sum())\n",
    "logpred = logmodel.predict(X_train_us_std)\n",
    "display(logpred.sum())\n",
    "\n",
    "print('Matrix Original')\n",
    "display(confusion_matrix(y_train_us,logpred))\n",
    "print('')\n",
    "print('Nueva Matrix')\n",
    "display(confusion_matrix(y_train_us,y_pred_03))"
   ]
  },
  {
   "cell_type": "markdown",
   "id": "7d465ebf",
   "metadata": {},
   "source": [
    "## **KNN**"
   ]
  },
  {
   "cell_type": "code",
   "execution_count": 13,
   "id": "43e46484",
   "metadata": {},
   "outputs": [],
   "source": [
    "from sklearn.neighbors import KNeighborsClassifier\n",
    "from sklearn.model_selection import cross_val_score"
   ]
  },
  {
   "cell_type": "code",
   "execution_count": 14,
   "id": "b0725590",
   "metadata": {},
   "outputs": [],
   "source": [
    "def scores_knn(X, y, start,stop,step):\n",
    "    \n",
    "    # Vamos a querer graficar los distintos valores del score de cross validation en función del hiperparámetro n_neighbors\n",
    "    # Para esto vamos a generar una lista de diccionarios que después se puede convertir fácilmente en DataFrame  \n",
    "   \n",
    "    # Lista de diccionarios - la inicializamos vacío y por fuera del for loop para ir alimentándola en cada iteración\n",
    "    scores_para_df = []\n",
    "    \n",
    "    \n",
    "    for i in range(start,stop,step):\n",
    "        \n",
    "        # En cada iteración, instanciamos el modelo con un hiperparámetro distinto\n",
    "        model = KNeighborsClassifier(n_neighbors=i)\n",
    "\n",
    "        # cross_val_scores nos devuelve un array de 5 resultados, uno por cada partición que hizo automáticamente CV\n",
    "        kf = KFold(n_splits=5, shuffle=True, random_state=10)\n",
    "        cv_scores = cross_val_score(model, X, y, cv=kf, scoring = \"recall\")\n",
    "\n",
    "        # Para cada valor de n_neighbours, creamos un diccionario con el valor de n_neighbours y la media y el desvío de los scores\n",
    "        dict_row_score = {'score_medio':np.mean(cv_scores),'score_std':np.std(cv_scores),'n_neighbours':i}\n",
    "        # Guardamos cada uno en la lista de diccionarios\n",
    "        scores_para_df.append(dict_row_score)\n",
    "    \n",
    "    # Creamos el DF a partir de la lista de resultados\n",
    "    df_scores = pd.DataFrame(scores_para_df)\n",
    "    \n",
    "    # Incorporamos los límites inferior y superior, restando y sumando el valor del desvío estándar, respectivamente\n",
    "    df_scores['limite_inferior'] = df_scores['score_medio'] - df_scores['score_std']\n",
    "    df_scores['limite_superior'] = df_scores['score_medio'] + df_scores['score_std']\n",
    "    \n",
    "    # Retornamos el DF\n",
    "    return df_scores"
   ]
  },
  {
   "cell_type": "code",
   "execution_count": 15,
   "id": "065ff817",
   "metadata": {},
   "outputs": [],
   "source": [
    "df_scores= scores_knn(X_train_us_std, y_train_us, 10, 25, 5)"
   ]
  },
  {
   "cell_type": "code",
   "execution_count": 35,
   "id": "abcf8823",
   "metadata": {},
   "outputs": [
    {
     "data": {
      "text/plain": [
       "[<matplotlib.lines.Line2D at 0x25bb730f280>]"
      ]
     },
     "execution_count": 35,
     "metadata": {},
     "output_type": "execute_result"
    },
    {
     "data": {
      "image/png": "[encoded data removed]",
      "text/plain": [
       "<Figure size 432x288 with 1 Axes>"
      ]
     },
     "metadata": {
      "needs_background": "light"
     },
     "output_type": "display_data"
    }
   ],
   "source": [
    "# Visualizamos los resultados\n",
    "\n",
    "plt.plot(df_scores['n_neighbours'], df_scores['limite_inferior'], color='r')\n",
    "plt.plot(df_scores['n_neighbours'], df_scores['score_medio'], color='b')\n",
    "plt.plot(df_scores['n_neighbours'], df_scores['limite_superior'], color='r')"
   ]
  },
  {
   "cell_type": "code",
   "execution_count": 17,
   "id": "0ab28763",
   "metadata": {},
   "outputs": [
    {
     "data": {
      "text/html": [
       "<div>\n",
       "<style scoped>\n",
       "    .dataframe tbody tr th:only-of-type {\n",
       "        vertical-align: middle;\n",
       "    }\n",
       "\n",
       "    .dataframe tbody tr th {\n",
       "        vertical-align: top;\n",
       "    }\n",
       "\n",
       "    .dataframe thead th {\n",
       "        text-align: right;\n",
       "    }\n",
       "</style>\n",
       "<table border=\"1\" class=\"dataframe\">\n",
       "  <thead>\n",
       "    <tr style=\"text-align: right;\">\n",
       "      <th></th>\n",
       "      <th>score_medio</th>\n",
       "      <th>score_std</th>\n",
       "      <th>n_neighbours</th>\n",
       "      <th>limite_inferior</th>\n",
       "      <th>limite_superior</th>\n",
       "    </tr>\n",
       "  </thead>\n",
       "  <tbody>\n",
       "    <tr>\n",
       "      <th>1</th>\n",
       "      <td>0.424372</td>\n",
       "      <td>0.019658</td>\n",
       "      <td>15</td>\n",
       "      <td>0.404714</td>\n",
       "      <td>0.44403</td>\n",
       "    </tr>\n",
       "  </tbody>\n",
       "</table>\n",
       "</div>"
      ],
      "text/plain": [
       "   score_medio  score_std  n_neighbours  limite_inferior  limite_superior\n",
       "1     0.424372   0.019658            15         0.404714          0.44403"
      ]
     },
     "execution_count": 17,
     "metadata": {},
     "output_type": "execute_result"
    }
   ],
   "source": [
    "# Identificamos el score máximo\n",
    "df_scores.loc[df_scores.score_medio == df_scores.score_medio.max()]"
   ]
  },
  {
   "cell_type": "code",
   "execution_count": 18,
   "id": "afd53408",
   "metadata": {},
   "outputs": [
    {
     "data": {
      "text/plain": [
       "15"
      ]
     },
     "execution_count": 18,
     "metadata": {},
     "output_type": "execute_result"
    }
   ],
   "source": [
    "# Asignamos el valor del k óptimo a una variable\n",
    "best_k = df_scores.loc[df_scores.score_medio == df_scores.score_medio.max(),'n_neighbours'].values[0]\n",
    "best_k"
   ]
  },
  {
   "cell_type": "code",
   "execution_count": 19,
   "id": "e78000b1",
   "metadata": {},
   "outputs": [
    {
     "data": {
      "text/plain": [
       "KNeighborsClassifier(n_neighbors=15)"
      ]
     },
     "execution_count": 19,
     "metadata": {},
     "output_type": "execute_result"
    }
   ],
   "source": [
    "# Elegimos el modelo óptimo que nos había indicado cross validation\n",
    "model = KNeighborsClassifier(n_neighbors=best_k)\n",
    "\n",
    "# Lo ajustamos sobre datos de entrenamiento\n",
    "model.fit(X_train_us_std, y_train_us)"
   ]
  },
  {
   "cell_type": "code",
   "execution_count": 20,
   "id": "27ca28f0",
   "metadata": {},
   "outputs": [
    {
     "data": {
      "text/plain": [
       "0.4730603448275862"
      ]
     },
     "execution_count": 20,
     "metadata": {},
     "output_type": "execute_result"
    }
   ],
   "source": [
    "from sklearn.metrics import roc_auc_score, recall_score\n",
    "\n",
    "# Evaluamos qué accuracy obtenemos en train\n",
    "recall_score(y_train_us, model.predict(X_train_us_std))"
   ]
  },
  {
   "cell_type": "code",
   "execution_count": 21,
   "id": "3b7189bd",
   "metadata": {},
   "outputs": [
    {
     "data": {
      "text/plain": [
       "0.7012852905797443"
      ]
     },
     "execution_count": 21,
     "metadata": {},
     "output_type": "execute_result"
    }
   ],
   "source": [
    "# Lo utilizamos para predecir en test\n",
    "y_pred = model.predict(X_test_us_std)\n",
    "\n",
    "# Computamos el accuracy score en test\n",
    "roc_auc_score(y_test, y_pred)"
   ]
  },
  {
   "cell_type": "markdown",
   "id": "74e5a1b1",
   "metadata": {},
   "source": [
    "## **Naive Bayes**"
   ]
  },
  {
   "cell_type": "code",
   "execution_count": 22,
   "id": "5831f47e",
   "metadata": {},
   "outputs": [
    {
     "name": "stdout",
     "output_type": "stream",
     "text": [
      "[[5294 2016]\n",
      " [ 158  770]]\n",
      "78.0\n"
     ]
    },
    {
     "data": {
      "text/plain": [
       "0.8259332714186445"
      ]
     },
     "execution_count": 22,
     "metadata": {},
     "output_type": "execute_result"
    }
   ],
   "source": [
    "from sklearn.naive_bayes import GaussianNB\n",
    "gaussiannb = GaussianNB()\n",
    "gaussiannb.fit(X_train_us_std, y_train_us)\n",
    "gaussiannbpred = gaussiannb.predict(X_test_us_std)\n",
    "probs = gaussiannb.predict(X_test_us_std)\n",
    "\n",
    "print(confusion_matrix(y_test, gaussiannbpred ))\n",
    "print(round(roc_auc_score(y_test, gaussiannbpred),2)*100)\n",
    "GAUSIAN = (cross_val_score(gaussiannb, X_train_us_std, y_train_us, cv=k_fold, n_jobs=1, scoring = 'roc_auc').mean())\n",
    "GAUSIAN"
   ]
  },
  {
   "cell_type": "markdown",
   "id": "4dae4ba9",
   "metadata": {},
   "source": [
    "## **Decision TreeClassifier**"
   ]
  },
  {
   "cell_type": "code",
   "execution_count": 23,
   "id": "430a65cd",
   "metadata": {},
   "outputs": [
    {
     "name": "stdout",
     "output_type": "stream",
     "text": [
      "[[6823  487]\n",
      " [ 436  492]]\n",
      "89.0\n"
     ]
    }
   ],
   "source": [
    "from sklearn.tree import DecisionTreeClassifier\n",
    "dtree = DecisionTreeClassifier(criterion='gini') #criterion = entopy, gini\n",
    "dtree.fit(X_train, y_train)\n",
    "dtreepred = dtree.predict(X_test)\n",
    "\n",
    "print(confusion_matrix(y_test, dtreepred))\n",
    "print(round(accuracy_score(y_test, dtreepred),2)*100)\n",
    "DTREECV = (cross_val_score(dtree, X_train, y_train, cv=k_fold, n_jobs=1, scoring = 'roc_auc').mean())"
   ]
  }
 ],
 "metadata": {
  "kernelspec": {
   "display_name": "Python 3 (ipykernel)",
   "language": "python",
   "name": "python3"
  },
  "language_info": {
   "codemirror_mode": {
    "name": "ipython",
    "version": 3
   },
   "file_extension": ".py",
   "mimetype": "text/x-python",
   "name": "python",
   "nbconvert_exporter": "python",
   "pygments_lexer": "ipython3",
   "version": "3.8.12"
  }
 },
 "nbformat": 4,
 "nbformat_minor": 5
}
