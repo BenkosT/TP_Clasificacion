{
 "cells": [
  {
   "cell_type": "code",
   "execution_count": 1,
   "id": "fe56e43a",
   "metadata": {},
   "outputs": [],
   "source": [
    "import pandas as pd\n",
    "import numpy as np\n",
    "import seaborn as sns\n",
    "import matplotlib.pyplot as plt"
   ]
  },
  {
   "cell_type": "code",
   "execution_count": 2,
   "id": "d4a3b75c",
   "metadata": {},
   "outputs": [
    {
     "data": {
      "text/html": [
       "<div>\n",
       "<style scoped>\n",
       "    .dataframe tbody tr th:only-of-type {\n",
       "        vertical-align: middle;\n",
       "    }\n",
       "\n",
       "    .dataframe tbody tr th {\n",
       "        vertical-align: top;\n",
       "    }\n",
       "\n",
       "    .dataframe thead th {\n",
       "        text-align: right;\n",
       "    }\n",
       "</style>\n",
       "<table border=\"1\" class=\"dataframe\">\n",
       "  <thead>\n",
       "    <tr style=\"text-align: right;\">\n",
       "      <th></th>\n",
       "      <th>age</th>\n",
       "      <th>job</th>\n",
       "      <th>marital</th>\n",
       "      <th>education</th>\n",
       "      <th>default</th>\n",
       "      <th>housing</th>\n",
       "      <th>loan</th>\n",
       "      <th>contact</th>\n",
       "      <th>month</th>\n",
       "      <th>day_of_week</th>\n",
       "      <th>...</th>\n",
       "      <th>campaign</th>\n",
       "      <th>pdays</th>\n",
       "      <th>previous</th>\n",
       "      <th>poutcome</th>\n",
       "      <th>emp.var.rate</th>\n",
       "      <th>cons.price.idx</th>\n",
       "      <th>cons.conf.idx</th>\n",
       "      <th>euribor3m</th>\n",
       "      <th>nr.employed</th>\n",
       "      <th>y</th>\n",
       "    </tr>\n",
       "  </thead>\n",
       "  <tbody>\n",
       "    <tr>\n",
       "      <th>0</th>\n",
       "      <td>56</td>\n",
       "      <td>housemaid</td>\n",
       "      <td>married</td>\n",
       "      <td>basic.4y</td>\n",
       "      <td>no</td>\n",
       "      <td>no</td>\n",
       "      <td>no</td>\n",
       "      <td>telephone</td>\n",
       "      <td>may</td>\n",
       "      <td>mon</td>\n",
       "      <td>...</td>\n",
       "      <td>1</td>\n",
       "      <td>999</td>\n",
       "      <td>0</td>\n",
       "      <td>nonexistent</td>\n",
       "      <td>1.1</td>\n",
       "      <td>93.994</td>\n",
       "      <td>-36.4</td>\n",
       "      <td>4.857</td>\n",
       "      <td>5191.0</td>\n",
       "      <td>no</td>\n",
       "    </tr>\n",
       "    <tr>\n",
       "      <th>1</th>\n",
       "      <td>57</td>\n",
       "      <td>services</td>\n",
       "      <td>married</td>\n",
       "      <td>high.school</td>\n",
       "      <td>unknown</td>\n",
       "      <td>no</td>\n",
       "      <td>no</td>\n",
       "      <td>telephone</td>\n",
       "      <td>may</td>\n",
       "      <td>mon</td>\n",
       "      <td>...</td>\n",
       "      <td>1</td>\n",
       "      <td>999</td>\n",
       "      <td>0</td>\n",
       "      <td>nonexistent</td>\n",
       "      <td>1.1</td>\n",
       "      <td>93.994</td>\n",
       "      <td>-36.4</td>\n",
       "      <td>4.857</td>\n",
       "      <td>5191.0</td>\n",
       "      <td>no</td>\n",
       "    </tr>\n",
       "    <tr>\n",
       "      <th>2</th>\n",
       "      <td>37</td>\n",
       "      <td>services</td>\n",
       "      <td>married</td>\n",
       "      <td>high.school</td>\n",
       "      <td>no</td>\n",
       "      <td>yes</td>\n",
       "      <td>no</td>\n",
       "      <td>telephone</td>\n",
       "      <td>may</td>\n",
       "      <td>mon</td>\n",
       "      <td>...</td>\n",
       "      <td>1</td>\n",
       "      <td>999</td>\n",
       "      <td>0</td>\n",
       "      <td>nonexistent</td>\n",
       "      <td>1.1</td>\n",
       "      <td>93.994</td>\n",
       "      <td>-36.4</td>\n",
       "      <td>4.857</td>\n",
       "      <td>5191.0</td>\n",
       "      <td>no</td>\n",
       "    </tr>\n",
       "  </tbody>\n",
       "</table>\n",
       "<p>3 rows × 21 columns</p>\n",
       "</div>"
      ],
      "text/plain": [
       "   age        job  marital    education  default housing loan    contact  \\\n",
       "0   56  housemaid  married     basic.4y       no      no   no  telephone   \n",
       "1   57   services  married  high.school  unknown      no   no  telephone   \n",
       "2   37   services  married  high.school       no     yes   no  telephone   \n",
       "\n",
       "  month day_of_week  ...  campaign  pdays  previous     poutcome emp.var.rate  \\\n",
       "0   may         mon  ...         1    999         0  nonexistent          1.1   \n",
       "1   may         mon  ...         1    999         0  nonexistent          1.1   \n",
       "2   may         mon  ...         1    999         0  nonexistent          1.1   \n",
       "\n",
       "   cons.price.idx  cons.conf.idx  euribor3m  nr.employed   y  \n",
       "0          93.994          -36.4      4.857       5191.0  no  \n",
       "1          93.994          -36.4      4.857       5191.0  no  \n",
       "2          93.994          -36.4      4.857       5191.0  no  \n",
       "\n",
       "[3 rows x 21 columns]"
      ]
     },
     "execution_count": 2,
     "metadata": {},
     "output_type": "execute_result"
    }
   ],
   "source": [
    "data = pd.read_csv(\"../Data/bank-additional-full.csv\", sep = \";\")\n",
    "data.head(3)"
   ]
  },
  {
   "cell_type": "code",
   "execution_count": 3,
   "id": "04163eb1",
   "metadata": {},
   "outputs": [
    {
     "data": {
      "text/plain": [
       "no     36548\n",
       "yes     4640\n",
       "Name: y, dtype: int64"
      ]
     },
     "execution_count": 3,
     "metadata": {},
     "output_type": "execute_result"
    }
   ],
   "source": [
    "data.y.value_counts()"
   ]
  },
  {
   "cell_type": "markdown",
   "id": "4e0ef63b",
   "metadata": {},
   "source": [
    "# Preparación del dataset"
   ]
  },
  {
   "cell_type": "markdown",
   "id": "9dd1b709",
   "metadata": {},
   "source": [
    "## Preparación en train y test"
   ]
  },
  {
   "cell_type": "markdown",
   "id": "1ea9160c",
   "metadata": {},
   "source": [
    "**Seleccion de variable target**"
   ]
  },
  {
   "cell_type": "code",
   "execution_count": 4,
   "id": "07948a00",
   "metadata": {},
   "outputs": [],
   "source": [
    "y = data.y\n",
    "X = data.drop([\"y\"], axis = 1)"
   ]
  },
  {
   "cell_type": "code",
   "execution_count": 5,
   "id": "f3520392",
   "metadata": {},
   "outputs": [],
   "source": [
    "from sklearn.model_selection import train_test_split\n",
    "\n",
    "X_train, X_test, y_train, y_test = train_test_split(X, y, test_size = 0.2, random_state = 161, stratify= y)"
   ]
  },
  {
   "cell_type": "code",
   "execution_count": 6,
   "id": "915867c8",
   "metadata": {},
   "outputs": [
    {
     "data": {
      "text/plain": [
       "no     0.887344\n",
       "yes    0.112656\n",
       "Name: y, dtype: float64"
      ]
     },
     "metadata": {},
     "output_type": "display_data"
    },
    {
     "data": {
      "text/plain": [
       "no     0.887351\n",
       "yes    0.112649\n",
       "Name: y, dtype: float64"
      ]
     },
     "metadata": {},
     "output_type": "display_data"
    }
   ],
   "source": [
    "display(y_train.value_counts(normalize=True))\n",
    "display(y_test.value_counts(normalize=True))"
   ]
  },
  {
   "cell_type": "code",
   "execution_count": 7,
   "id": "d6eb4851",
   "metadata": {},
   "outputs": [],
   "source": [
    "from sklearn import preprocessing\n",
    "\n",
    "le = preprocessing.LabelEncoder()\n",
    "y_train = le.fit_transform(y_train)\n",
    "y_test = le.transform(y_test)"
   ]
  },
  {
   "cell_type": "markdown",
   "id": "6505e154",
   "metadata": {},
   "source": [
    "**Data train y test con undersampling**"
   ]
  },
  {
   "cell_type": "code",
   "execution_count": 8,
   "id": "e7f27549",
   "metadata": {},
   "outputs": [],
   "source": [
    "# Balanceado de clases de target con RandomUnderSampler\n",
    "from imblearn.under_sampling import RandomUnderSampler\n",
    "undersampler = RandomUnderSampler(sampling_strategy= 0.3 ,random_state=123); # iguala las clases\n",
    "X_train_us,y_train_us = undersampler.fit_resample(X_train,y_train)\n",
    "\n",
    "# Selección de la data de train y test en tipo numérica y categórica\n",
    "X_train_numerical_us = X_train_us.select_dtypes(exclude = \"object\")\n",
    "X_test_numerical_us = X_test.select_dtypes(exclude = \"object\")\n",
    "\n",
    "X_train_categorical_us = X_train_us.select_dtypes(include='object')\n",
    "X_test_categorical_us = X_test.select_dtypes(include='object')\n",
    "\n",
    "# Transformación de data de train y test categórica en numérica con OneHotEncoder\n",
    "from sklearn.preprocessing import OneHotEncoder\n",
    "\n",
    "OH_encoder = OneHotEncoder(handle_unknown = \"ignore\", sparse = False)\n",
    "X_train_categorical_us_OH =  pd.DataFrame (OH_encoder.fit_transform(X_train_categorical_us))\n",
    "X_train_categorical_us_OH.index = X_train_categorical_us.index\n",
    "\n",
    "X_test_categorical_us_OH = pd.DataFrame (OH_encoder.transform(X_test_categorical_us))\n",
    "X_test_categorical_us_OH.index = X_test_categorical_us.index\n",
    "\n",
    "#Estandarización de variables\n",
    "from sklearn.preprocessing import StandardScaler\n",
    "sc_X = StandardScaler()\n",
    "X_train_numerical_us_std = pd.DataFrame(sc_X.fit_transform(X_train_numerical_us))\n",
    "X_train_numerical_us_std.index = X_train_numerical_us.index\n",
    "\n",
    "X_test_numerical_us_std = pd.DataFrame(sc_X.transform(X_test_numerical_us))\n",
    "X_test_numerical_us_std.index = X_test_numerical_us.index\n",
    "\n",
    "# Concatenación de data numerica con categórica transformada con OneHotEncoder sin estandarizar\n",
    "X_train_us = pd.concat([X_train_numerical_us, X_train_categorical_us_OH], axis = 1)\n",
    "X_test_us = pd.concat([X_test_numerical_us, X_test_categorical_us_OH], axis = 1)\n",
    "\n",
    "# Concatenación de data numerica con categórica transformada con OneHotEncoder estandarizada\n",
    "X_train_us_std = pd.concat([X_train_numerical_us_std, X_train_categorical_us_OH], axis = 1)\n",
    "X_test_us_std = pd.concat([X_test_numerical_us_std, X_test_categorical_us_OH], axis = 1)"
   ]
  },
  {
   "cell_type": "markdown",
   "id": "84797ac7",
   "metadata": {},
   "source": [
    "## **F2 Score**"
   ]
  },
  {
   "cell_type": "code",
   "execution_count": 11,
   "id": "402b424f",
   "metadata": {},
   "outputs": [],
   "source": [
    "from sklearn.metrics import make_scorer, fbeta_score"
   ]
  },
  {
   "cell_type": "code",
   "execution_count": 12,
   "id": "8b6dddbc",
   "metadata": {},
   "outputs": [],
   "source": [
    "# Creacion de score f2 \n",
    "ftwo_scorer = make_scorer(fbeta_score, beta=2)"
   ]
  },
  {
   "cell_type": "markdown",
   "id": "066fac15",
   "metadata": {},
   "source": [
    "## **Logistic regression**"
   ]
  },
  {
   "cell_type": "markdown",
   "id": "86aa908c",
   "metadata": {},
   "source": [
    "## **Regresion Logistica con regularización**"
   ]
  },
  {
   "cell_type": "code",
   "execution_count": 37,
   "id": "b5b7e6c2",
   "metadata": {},
   "outputs": [],
   "source": [
    "from sklearn.model_selection import KFold, cross_val_score, GridSearchCV, StratifiedKFold\n",
    "from sklearn.metrics import confusion_matrix, accuracy_score, roc_auc_score, recall_score, fbeta_score, make_scorer, f1_score\n",
    "from sklearn.linear_model import LogisticRegression"
   ]
  },
  {
   "cell_type": "code",
   "execution_count": 14,
   "id": "488eec10",
   "metadata": {},
   "outputs": [
    {
     "name": "stdout",
     "output_type": "stream",
     "text": [
      "LogisticRegression(C=78.47599703514607, max_iter=1000.0)\n",
      "La media del f2 score del modelo es: 0.6740707027530043\n",
      "El mejor hiperparametro C del modelo es:  {'C': 78.47599703514607}\n"
     ]
    }
   ],
   "source": [
    "# Seteado de grid search\n",
    "k_range = np.logspace(-4, 4, 20)\n",
    "logreg = LogisticRegression(max_iter = 1e3)\n",
    "param_grid = {'C': k_range}\n",
    "k_fold =  StratifiedKFold(n_splits=3, shuffle=True, random_state=10)\n",
    "\n",
    "#Instanciado de GridSearchCV\n",
    "gridlogreg = GridSearchCV ( logreg, param_grid, cv = k_fold, verbose=0, scoring = ftwo_scorer)\n",
    "# Fiteado del modelo de regresión logistica con grid search\n",
    "gridlogreg = gridlogreg.fit(X_train_us_std,y_train_us)\n",
    "\n",
    "print(gridlogreg.best_estimator_)\n",
    "print(\"La media del f2 score del modelo es:\", gridlogreg.best_score_)\n",
    "print(\"El mejor hiperparametro C del modelo es: \", gridlogreg.best_params_)"
   ]
  },
  {
   "cell_type": "code",
   "execution_count": 15,
   "id": "f85d8d05",
   "metadata": {},
   "outputs": [
    {
     "data": {
      "text/html": [
       "<div>\n",
       "<style scoped>\n",
       "    .dataframe tbody tr th:only-of-type {\n",
       "        vertical-align: middle;\n",
       "    }\n",
       "\n",
       "    .dataframe tbody tr th {\n",
       "        vertical-align: top;\n",
       "    }\n",
       "\n",
       "    .dataframe thead th {\n",
       "        text-align: right;\n",
       "    }\n",
       "</style>\n",
       "<table border=\"1\" class=\"dataframe\">\n",
       "  <thead>\n",
       "    <tr style=\"text-align: right;\">\n",
       "      <th></th>\n",
       "      <th>mean_fit_time</th>\n",
       "      <th>std_fit_time</th>\n",
       "      <th>mean_score_time</th>\n",
       "      <th>std_score_time</th>\n",
       "      <th>param_C</th>\n",
       "      <th>params</th>\n",
       "      <th>split0_test_score</th>\n",
       "      <th>split1_test_score</th>\n",
       "      <th>split2_test_score</th>\n",
       "      <th>mean_test_score</th>\n",
       "      <th>std_test_score</th>\n",
       "      <th>rank_test_score</th>\n",
       "    </tr>\n",
       "  </thead>\n",
       "  <tbody>\n",
       "    <tr>\n",
       "      <th>0</th>\n",
       "      <td>0.034013</td>\n",
       "      <td>0.015567</td>\n",
       "      <td>0.004000</td>\n",
       "      <td>6.257699e-07</td>\n",
       "      <td>0.0001</td>\n",
       "      <td>{'C': 0.0001}</td>\n",
       "      <td>0.053881</td>\n",
       "      <td>0.065659</td>\n",
       "      <td>0.065776</td>\n",
       "      <td>0.061772</td>\n",
       "      <td>0.005580</td>\n",
       "      <td>20</td>\n",
       "    </tr>\n",
       "    <tr>\n",
       "      <th>1</th>\n",
       "      <td>0.024338</td>\n",
       "      <td>0.000471</td>\n",
       "      <td>0.004001</td>\n",
       "      <td>4.899036e-07</td>\n",
       "      <td>0.000263665</td>\n",
       "      <td>{'C': 0.00026366508987303583}</td>\n",
       "      <td>0.288298</td>\n",
       "      <td>0.306428</td>\n",
       "      <td>0.303173</td>\n",
       "      <td>0.299299</td>\n",
       "      <td>0.007892</td>\n",
       "      <td>19</td>\n",
       "    </tr>\n",
       "    <tr>\n",
       "      <th>2</th>\n",
       "      <td>0.030005</td>\n",
       "      <td>0.002170</td>\n",
       "      <td>0.004001</td>\n",
       "      <td>1.469711e-06</td>\n",
       "      <td>0.000695193</td>\n",
       "      <td>{'C': 0.0006951927961775605}</td>\n",
       "      <td>0.427745</td>\n",
       "      <td>0.445162</td>\n",
       "      <td>0.445785</td>\n",
       "      <td>0.439564</td>\n",
       "      <td>0.008362</td>\n",
       "      <td>18</td>\n",
       "    </tr>\n",
       "  </tbody>\n",
       "</table>\n",
       "</div>"
      ],
      "text/plain": [
       "   mean_fit_time  std_fit_time  mean_score_time  std_score_time      param_C  \\\n",
       "0       0.034013      0.015567         0.004000    6.257699e-07       0.0001   \n",
       "1       0.024338      0.000471         0.004001    4.899036e-07  0.000263665   \n",
       "2       0.030005      0.002170         0.004001    1.469711e-06  0.000695193   \n",
       "\n",
       "                          params  split0_test_score  split1_test_score  \\\n",
       "0                  {'C': 0.0001}           0.053881           0.065659   \n",
       "1  {'C': 0.00026366508987303583}           0.288298           0.306428   \n",
       "2   {'C': 0.0006951927961775605}           0.427745           0.445162   \n",
       "\n",
       "   split2_test_score  mean_test_score  std_test_score  rank_test_score  \n",
       "0           0.065776         0.061772        0.005580               20  \n",
       "1           0.303173         0.299299        0.007892               19  \n",
       "2           0.445785         0.439564        0.008362               18  "
      ]
     },
     "execution_count": 15,
     "metadata": {},
     "output_type": "execute_result"
    }
   ],
   "source": [
    "pd.DataFrame(gridlogreg.cv_results_).head(3)"
   ]
  },
  {
   "cell_type": "code",
   "execution_count": 17,
   "id": "56aaf21a",
   "metadata": {},
   "outputs": [
    {
     "data": {
      "text/plain": [
       "LogisticRegression(C=78.47599703514607, max_iter=1000.0)"
      ]
     },
     "execution_count": 17,
     "metadata": {},
     "output_type": "execute_result"
    }
   ],
   "source": [
    "from sklearn.linear_model import LogisticRegression\n",
    "# Fiteado de modelo de regresion logistica con mejor hiperparametro C\n",
    "best_hip = 78.47599703514607\n",
    "logmodel = LogisticRegression( C = best_hip, max_iter=1e3) \n",
    "logmodel.fit(X_train_us_std,y_train_us)"
   ]
  },
  {
   "cell_type": "code",
   "execution_count": 38,
   "id": "3b1c3118",
   "metadata": {},
   "outputs": [
    {
     "name": "stdout",
     "output_type": "stream",
     "text": [
      "[[11649   724]\n",
      " [ 1253  2459]]\n",
      "[[6867  443]\n",
      " [ 315  613]]\n",
      "0.6818812045920912\n",
      "0.6428271812080537\n"
     ]
    }
   ],
   "source": [
    "logpredtrain = logmodel.predict(X_train_us_std)\n",
    "logpredtest = logmodel.predict(X_test_us_std)\n",
    "\n",
    "# Creación de las variables score para la posterior evaluación de modelos\n",
    "LG_ftwo_train = ftwo_scorer(logmodel,X_train_us_std,y_train_us)\n",
    "LG_ftwo_test = ftwo_scorer(logmodel,X_test_us_std,y_test)\n",
    "\n",
    "LG_fone_train = f1_score(y_train_us, logpredtrain)\n",
    "LG_fone_test = f1_score(y_test, logpredtest)\n",
    "\n",
    "LG_accuracy_train = accuracy_score(y_train_us, logpredtrain)\n",
    "LG_accuracy_test = accuracy_score(y_test, logpredtest)\n",
    "\n",
    "LG_ROC_train = roc_auc_score(y_train_us, logpredtrain)\n",
    "LG_ROC_test = roc_auc_score(y_test, logpredtest)\n",
    "\n",
    "LG_recall_train = recall_score(y_train_us, logpredtrain)\n",
    "LG_recall_test = recall_score(y_test, logpredtest)\n",
    "\n",
    "\n",
    "print(confusion_matrix(y_train_us, logpredtrain))\n",
    "print(confusion_matrix(y_test, logpredtest))\n",
    "print(LG_ftwo_train)\n",
    "print(LG_ftwo_test)"
   ]
  },
  {
   "cell_type": "raw",
   "id": "5d1d342b",
   "metadata": {},
   "source": [
    "Treshold\n",
    "y_pred_proba = logmodel.predict_proba(X_train_us_std)\n",
    "from sklearn.preprocessing import binarize\n",
    "y_pred_03 = binarize(y_pred_proba, threshold=0.3)[:,1]\n",
    "display(y_pred_03.sum())\n",
    "logpred = logmodel.predict(X_train_us_std)\n",
    "display(logpred.sum())\n",
    "\n",
    "print('Matrix Original')\n",
    "display(confusion_matrix(y_train_us,logpred))\n",
    "print('')\n",
    "print('Nueva Matrix')\n",
    "display(confusion_matrix(y_train_us,y_pred_03))"
   ]
  },
  {
   "cell_type": "markdown",
   "id": "9de1f352",
   "metadata": {},
   "source": [
    "## **KNN**"
   ]
  },
  {
   "cell_type": "code",
   "execution_count": 19,
   "id": "40240057",
   "metadata": {},
   "outputs": [],
   "source": [
    "from sklearn.neighbors import KNeighborsClassifier\n",
    "from sklearn.model_selection import cross_val_score\n",
    "from sklearn.model_selection import StratifiedKFold"
   ]
  },
  {
   "cell_type": "code",
   "execution_count": 20,
   "id": "757984a3",
   "metadata": {},
   "outputs": [
    {
     "name": "stdout",
     "output_type": "stream",
     "text": [
      "KNeighborsClassifier(n_neighbors=9)\n",
      "La media del f2 score del modelo es: 0.6568895298275658\n",
      "El mejor hiperparametro n_neighbors del modelo es:  {'n_neighbors': 9}\n"
     ]
    }
   ],
   "source": [
    "knn = KNeighborsClassifier()\n",
    "k_range = list(range(1, 31, 2))\n",
    "param_grid = dict(n_neighbors=k_range)\n",
    "folds=StratifiedKFold(n_splits=3, random_state=19, shuffle=True)\n",
    "\n",
    "gridknn = GridSearchCV(knn, param_grid, cv=folds, scoring=ftwo_scorer)\n",
    "gridknn.fit(X_train_us_std, y_train_us)\n",
    "\n",
    "print(gridknn.best_estimator_)\n",
    "print(\"La media del f2 score del modelo es:\", gridknn.best_score_)\n",
    "print(\"El mejor hiperparametro n_neighbors del modelo es: \", gridknn.best_params_)"
   ]
  },
  {
   "cell_type": "code",
   "execution_count": 21,
   "id": "0f13f817",
   "metadata": {},
   "outputs": [
    {
     "data": {
      "text/plain": [
       "KNeighborsClassifier(n_neighbors=9)"
      ]
     },
     "execution_count": 21,
     "metadata": {},
     "output_type": "execute_result"
    }
   ],
   "source": [
    "# Fiteado de modelo de knn con mejor hiperparametro n_neighbors\n",
    "best_hip = 9\n",
    "knnmodel = KNeighborsClassifier( n_neighbors = best_hip) \n",
    "knnmodel.fit(X_train_us_std,y_train_us)"
   ]
  },
  {
   "cell_type": "code",
   "execution_count": 40,
   "id": "f48d6043",
   "metadata": {},
   "outputs": [
    {
     "name": "stdout",
     "output_type": "stream",
     "text": [
      "[[11614   759]\n",
      " [ 1071  2641]]\n",
      "[[6762  548]\n",
      " [ 326  602]]\n",
      "0.7236409469530907\n",
      "0.6190867955573837\n"
     ]
    }
   ],
   "source": [
    "knnpredtrain = knnmodel.predict(X_train_us_std)\n",
    "knnpredtest = knnmodel.predict(X_test_us_std)\n",
    "\n",
    "# Creación de las variables score para la posterior evaluación de modelos\n",
    "KNN_ftwo_train = ftwo_scorer(knnmodel,X_train_us_std,y_train_us)\n",
    "KNN_ftwo_test = ftwo_scorer(knnmodel,X_test_us_std,y_test)\n",
    "\n",
    "KNN_fone_train = f1_score(y_train_us, knnpredtrain)\n",
    "KNN_fone_test = f1_score(y_test, knnpredtest)\n",
    "\n",
    "KNN_accuracy_train = accuracy_score(y_train_us, knnpredtrain)\n",
    "KNN_accuracy_test = accuracy_score(y_test, knnpredtest)\n",
    "\n",
    "KNN_ROC_train = roc_auc_score(y_train_us, knnpredtrain)\n",
    "KNN_ROC_test = roc_auc_score(y_test, knnpredtest)\n",
    "\n",
    "KNN_recall_train = recall_score(y_train_us, knnpredtrain)\n",
    "KNN_recall_test = recall_score(y_test, knnpredtest)\n",
    "\n",
    "\n",
    "print(confusion_matrix(y_train_us, knnpredtrain))\n",
    "print(confusion_matrix(y_test, knnpredtest))\n",
    "print(KNN_ftwo_train)\n",
    "print(KNN_ftwo_test)"
   ]
  },
  {
   "cell_type": "markdown",
   "id": "4cef9121",
   "metadata": {},
   "source": [
    "## **Naive Bayes**"
   ]
  },
  {
   "cell_type": "code",
   "execution_count": 41,
   "id": "c74e4ac0",
   "metadata": {},
   "outputs": [
    {
     "data": {
      "text/plain": [
       "GaussianNB()"
      ]
     },
     "execution_count": 41,
     "metadata": {},
     "output_type": "execute_result"
    }
   ],
   "source": [
    "from sklearn.naive_bayes import GaussianNB\n",
    "gaussiannb = GaussianNB()\n",
    "gaussiannb.fit(X_train_us_std, y_train_us)"
   ]
  },
  {
   "cell_type": "code",
   "execution_count": 42,
   "id": "6bd4e435",
   "metadata": {},
   "outputs": [
    {
     "name": "stdout",
     "output_type": "stream",
     "text": [
      "[[10069  2304]\n",
      " [ 1115  2597]]\n",
      "[[5927 1383]\n",
      " [ 282  646]]\n",
      "0.6575016456529443\n",
      "0.5626197526563317\n"
     ]
    }
   ],
   "source": [
    "gaussiannbpredtrain = gaussiannb.predict(X_train_us_std)\n",
    "gaussianpredtest = gaussiannb.predict(X_test_us_std)\n",
    "\n",
    "# Creación de las variables score para la posterior evaluación de modelos\n",
    "GAU_ftwo_train = ftwo_scorer(gaussiannb,X_train_us_std,y_train_us)\n",
    "GAU_ftwo_test = ftwo_scorer(gaussiannb,X_test_us_std,y_test)\n",
    "\n",
    "GAU_fone_train = f1_score(y_train_us, gaussiannbpredtrain)\n",
    "GAU_fone_test = f1_score(y_test, gaussianpredtest)\n",
    "\n",
    "GAU_accuracy_train = accuracy_score(y_train_us, gaussiannbpredtrain)\n",
    "GAU_accuracy_test = accuracy_score(y_test, gaussianpredtest)\n",
    "\n",
    "GAU_ROC_train = roc_auc_score(y_train_us, gaussiannbpredtrain)\n",
    "GAU_ROC_test = roc_auc_score(y_test, gaussianpredtest)\n",
    "\n",
    "GAU_recall_train = recall_score(y_train_us, gaussiannbpredtrain)\n",
    "GAU_recall_test = recall_score(y_test, gaussianpredtest)\n",
    "\n",
    "\n",
    "print(confusion_matrix(y_train_us, gaussiannbpredtrain))\n",
    "print(confusion_matrix(y_test, gaussianpredtest))\n",
    "print(GAU_ftwo_train)\n",
    "print(GAU_ftwo_test)"
   ]
  },
  {
   "cell_type": "markdown",
   "id": "a8ae400d",
   "metadata": {},
   "source": [
    "## **Decision TreeClassifier**"
   ]
  },
  {
   "cell_type": "code",
   "execution_count": null,
   "id": "0efdf08c",
   "metadata": {},
   "outputs": [],
   "source": [
    "from sklearn.model_selection import GridSearchCV\n",
    "from sklearn import tree\n",
    "from IPython.display import Image\n",
    "import pydotplus\n",
    "from sklearn.tree import DecisionTreeClassifier"
   ]
  },
  {
   "cell_type": "code",
   "execution_count": 25,
   "id": "cdaf4a37",
   "metadata": {},
   "outputs": [
    {
     "data": {
      "text/plain": [
       "DecisionTreeClassifier(max_depth=5)"
      ]
     },
     "execution_count": 25,
     "metadata": {},
     "output_type": "execute_result"
    }
   ],
   "source": [
    "dtree = DecisionTreeClassifier(criterion='gini', max_depth = 5) #criterion = entopy, gini\n",
    "dtree.fit(X_train_us, y_train_us)"
   ]
  },
  {
   "cell_type": "code",
   "execution_count": 43,
   "id": "d0ae04d0",
   "metadata": {},
   "outputs": [
    {
     "name": "stdout",
     "output_type": "stream",
     "text": [
      "[[11401   972]\n",
      " [  881  2831]]\n",
      "[[6713  597]\n",
      " [ 230  698]]\n",
      "0.7589405393812665\n",
      "0.6970241661673657\n"
     ]
    }
   ],
   "source": [
    "dtreepredtrain = dtree.predict(X_train_us)\n",
    "dtreepredtest = dtree.predict(X_test_us)\n",
    "\n",
    "# Creación de las variables score para la posterior evaluación de modelos\n",
    "DTREE_ftwo_train = ftwo_scorer(dtree,X_train_us,y_train_us)\n",
    "DTREE_ftwo_test = ftwo_scorer(dtree,X_test_us,y_test)\n",
    "\n",
    "DTREE_fone_train = f1_score(y_train_us, dtreepredtrain)\n",
    "DTREE_fone_test = f1_score(y_test, dtreepredtest)\n",
    "\n",
    "DTREE_accuracy_train = accuracy_score(y_train_us, dtreepredtrain)\n",
    "DTREE_accuracy_test = accuracy_score(y_test, dtreepredtest)\n",
    "\n",
    "DTREE_ROC_train = roc_auc_score(y_train_us, dtreepredtrain)\n",
    "DTREE_ROC_test = roc_auc_score(y_test, dtreepredtest)\n",
    "\n",
    "DTREE_recall_train = recall_score(y_train_us, dtreepredtrain)\n",
    "DTREE_recall_test = recall_score(y_test, dtreepredtest)\n",
    "\n",
    "\n",
    "print(confusion_matrix(y_train_us, dtreepredtrain))\n",
    "print(confusion_matrix(y_test, dtreepredtest))\n",
    "print(DTREE_ftwo_train)\n",
    "print(DTREE_ftwo_test)"
   ]
  },
  {
   "cell_type": "code",
   "execution_count": null,
   "id": "e7a06092",
   "metadata": {},
   "outputs": [],
   "source": [
    "dot_data = tree.export_graphviz(dtree, out_file=None,feature_names= X_train_us.columns, filled = True)\n",
    "graph2 = pydotplus.graph_from_dot_data(dot_data)\n",
    "Image(graph2.create_png())"
   ]
  },
  {
   "cell_type": "code",
   "execution_count": null,
   "id": "98b09199",
   "metadata": {},
   "outputs": [],
   "source": [
    "clftree = tree.DecisionTreeClassifier(random_state=40)\n",
    "params_grid = { \"criterion\" : [\"gini\", \"entropy\"],\n",
    "                \"min_samples_leaf\": [5,10,15,20,100,300,800, None], \n",
    "                \"max_depth\" : [1,2,3,4,5,6,8,9,10,11,12,13,14,20,25,None],\n",
    "                \"min_samples_split\": [2, 3, 4,None]}\n",
    "grid_search = GridSearchCV(clftree, params_grid,\n",
    "                           n_jobs=-1, scoring= ftwo_scorer)\n",
    "grid_search.fit(X_train_us, y_train_us)"
   ]
  },
  {
   "cell_type": "code",
   "execution_count": null,
   "id": "d9b2d8be",
   "metadata": {},
   "outputs": [],
   "source": [
    "#Score durante el entrenamiento.\n",
    "grid_search.best_score_"
   ]
  },
  {
   "cell_type": "code",
   "execution_count": null,
   "id": "5bbac6df",
   "metadata": {},
   "outputs": [],
   "source": [
    "grid_search.best_params_ "
   ]
  },
  {
   "cell_type": "code",
   "execution_count": null,
   "id": "bdcf7929",
   "metadata": {},
   "outputs": [],
   "source": [
    "cv_clf = grid_search.best_estimator_"
   ]
  },
  {
   "cell_type": "code",
   "execution_count": null,
   "id": "78807d43",
   "metadata": {},
   "outputs": [],
   "source": [
    "cv_clf"
   ]
  },
  {
   "cell_type": "code",
   "execution_count": null,
   "id": "cab5c85c",
   "metadata": {},
   "outputs": [],
   "source": [
    "accuracy_score(y_test, cv_clf.predict(X_test_us))"
   ]
  },
  {
   "cell_type": "code",
   "execution_count": null,
   "id": "bc9a59ed",
   "metadata": {},
   "outputs": [],
   "source": [
    "ftwo_scorer(cv_clf,X_test_us,y_test)"
   ]
  },
  {
   "cell_type": "code",
   "execution_count": null,
   "id": "d93a3978",
   "metadata": {},
   "outputs": [],
   "source": [
    "confusion_matrix(y_test, cv_clf.predict(X_test_us))"
   ]
  },
  {
   "cell_type": "code",
   "execution_count": null,
   "id": "a9e0dd18",
   "metadata": {},
   "outputs": [],
   "source": [
    "dot_data = tree.export_graphviz(cv_clf, out_file=None,feature_names= X_train_us.columns, filled = True)\n",
    "graph2 = pydotplus.graph_from_dot_data(dot_data)\n",
    "Image(graph2.create_png())"
   ]
  },
  {
   "cell_type": "code",
   "execution_count": null,
   "id": "d1d19eca",
   "metadata": {},
   "outputs": [],
   "source": [
    "pd.DataFrame({'atributo':X.columns, 'importancia':cv_clf.feature_importances_}).sort_values('importancia', ascending = False)"
   ]
  },
  {
   "cell_type": "markdown",
   "id": "a43e70d9",
   "metadata": {},
   "source": [
    "## **Comparación de los modelos**"
   ]
  },
  {
   "cell_type": "code",
   "execution_count": 44,
   "id": "1dfda83d",
   "metadata": {},
   "outputs": [
    {
     "data": {
      "text/html": [
       "<div>\n",
       "<style scoped>\n",
       "    .dataframe tbody tr th:only-of-type {\n",
       "        vertical-align: middle;\n",
       "    }\n",
       "\n",
       "    .dataframe tbody tr th {\n",
       "        vertical-align: top;\n",
       "    }\n",
       "\n",
       "    .dataframe thead th {\n",
       "        text-align: right;\n",
       "    }\n",
       "</style>\n",
       "<table border=\"1\" class=\"dataframe\">\n",
       "  <thead>\n",
       "    <tr style=\"text-align: right;\">\n",
       "      <th></th>\n",
       "      <th>Models</th>\n",
       "      <th>F2 Score Train</th>\n",
       "      <th>F2 Score Test</th>\n",
       "      <th>F1 Score Train</th>\n",
       "      <th>F1 Score Test</th>\n",
       "      <th>Accuracy Score Train</th>\n",
       "      <th>Accuracy Score Test</th>\n",
       "      <th>ROC Score Train</th>\n",
       "      <th>ROC Score Test</th>\n",
       "      <th>Recall Score Train</th>\n",
       "      <th>Recall Score Test</th>\n",
       "    </tr>\n",
       "  </thead>\n",
       "  <tbody>\n",
       "    <tr>\n",
       "      <th>3</th>\n",
       "      <td>Decision Tree Classifier</td>\n",
       "      <td>0.758941</td>\n",
       "      <td>0.697024</td>\n",
       "      <td>0.753426</td>\n",
       "      <td>0.627980</td>\n",
       "      <td>0.884800</td>\n",
       "      <td>0.899612</td>\n",
       "      <td>0.842052</td>\n",
       "      <td>0.835243</td>\n",
       "      <td>0.762662</td>\n",
       "      <td>0.752155</td>\n",
       "    </tr>\n",
       "    <tr>\n",
       "      <th>0</th>\n",
       "      <td>Logistic Model</td>\n",
       "      <td>0.681881</td>\n",
       "      <td>0.642827</td>\n",
       "      <td>0.713270</td>\n",
       "      <td>0.617944</td>\n",
       "      <td>0.877090</td>\n",
       "      <td>0.907987</td>\n",
       "      <td>0.801966</td>\n",
       "      <td>0.799979</td>\n",
       "      <td>0.662446</td>\n",
       "      <td>0.660560</td>\n",
       "    </tr>\n",
       "    <tr>\n",
       "      <th>1</th>\n",
       "      <td>K-Near Neighbors</td>\n",
       "      <td>0.723641</td>\n",
       "      <td>0.619087</td>\n",
       "      <td>0.742688</td>\n",
       "      <td>0.579403</td>\n",
       "      <td>0.886229</td>\n",
       "      <td>0.893906</td>\n",
       "      <td>0.825067</td>\n",
       "      <td>0.786871</td>\n",
       "      <td>0.711476</td>\n",
       "      <td>0.648707</td>\n",
       "    </tr>\n",
       "    <tr>\n",
       "      <th>2</th>\n",
       "      <td>Gausian NB</td>\n",
       "      <td>0.657502</td>\n",
       "      <td>0.562620</td>\n",
       "      <td>0.603042</td>\n",
       "      <td>0.436929</td>\n",
       "      <td>0.787442</td>\n",
       "      <td>0.797888</td>\n",
       "      <td>0.756705</td>\n",
       "      <td>0.753464</td>\n",
       "      <td>0.699623</td>\n",
       "      <td>0.696121</td>\n",
       "    </tr>\n",
       "  </tbody>\n",
       "</table>\n",
       "</div>"
      ],
      "text/plain": [
       "                     Models  F2 Score Train  F2 Score Test  F1 Score Train  \\\n",
       "3  Decision Tree Classifier        0.758941       0.697024        0.753426   \n",
       "0            Logistic Model        0.681881       0.642827        0.713270   \n",
       "1          K-Near Neighbors        0.723641       0.619087        0.742688   \n",
       "2                Gausian NB        0.657502       0.562620        0.603042   \n",
       "\n",
       "   F1 Score Test  Accuracy Score Train  Accuracy Score Test  ROC Score Train  \\\n",
       "3       0.627980              0.884800             0.899612         0.842052   \n",
       "0       0.617944              0.877090             0.907987         0.801966   \n",
       "1       0.579403              0.886229             0.893906         0.825067   \n",
       "2       0.436929              0.787442             0.797888         0.756705   \n",
       "\n",
       "   ROC Score Test  Recall Score Train  Recall Score Test  \n",
       "3        0.835243            0.762662           0.752155  \n",
       "0        0.799979            0.662446           0.660560  \n",
       "1        0.786871            0.711476           0.648707  \n",
       "2        0.753464            0.699623           0.696121  "
      ]
     },
     "execution_count": 44,
     "metadata": {},
     "output_type": "execute_result"
    }
   ],
   "source": [
    "models = pd.DataFrame({'Models': ['Logistic Model', 'K-Near Neighbors',\n",
    "                                   'Gausian NB', 'Decision Tree Classifier'],\n",
    "                       'F2 Score Train':  [LG_ftwo_train, KNN_ftwo_train, GAU_ftwo_train, DTREE_ftwo_train],\n",
    "                       'F2 Score Test': [LG_ftwo_test, KNN_ftwo_test, GAU_ftwo_test, DTREE_ftwo_test],\n",
    "                       'F1 Score Train':  [LG_fone_train, KNN_fone_train, GAU_fone_train, DTREE_fone_train],\n",
    "                       'F1 Score Test': [LG_fone_test, KNN_fone_test, GAU_fone_test, DTREE_fone_test],                       \n",
    "                       'Accuracy Score Train':  [LG_accuracy_train, KNN_accuracy_train, GAU_accuracy_train, DTREE_accuracy_train],\n",
    "                       'Accuracy Score Test': [LG_accuracy_test, KNN_accuracy_test, GAU_accuracy_test, DTREE_accuracy_test],\n",
    "                       'ROC Score Train':  [LG_ROC_train, KNN_ROC_train, GAU_ROC_train, DTREE_ROC_train],\n",
    "                       'ROC Score Test': [LG_ROC_test, KNN_ROC_test, GAU_ROC_test, DTREE_ROC_test],\n",
    "                       'Recall Score Train':  [LG_recall_train, KNN_recall_train, GAU_recall_train, DTREE_recall_train],\n",
    "                       'Recall Score Test': [LG_recall_test, KNN_recall_test, GAU_recall_test, DTREE_recall_test]})\n",
    "        \n",
    "models.sort_values(by='F2 Score Test', ascending=False)"
   ]
  },
  {
   "cell_type": "code",
   "execution_count": null,
   "id": "899d43c0",
   "metadata": {},
   "outputs": [],
   "source": []
  },
  {
   "cell_type": "markdown",
   "id": "99ca3e00",
   "metadata": {},
   "source": [
    "# graficos para ver si quedan"
   ]
  },
  {
   "cell_type": "code",
   "execution_count": null,
   "id": "96597164",
   "metadata": {},
   "outputs": [],
   "source": [
    "lr_false_positive_rate,lr_true_positive_rate,lr_threshold = roc_curve(y_test,lr_predict)\n",
    "nb_false_positive_rate,nb_true_positive_rate,nb_threshold = roc_curve(y_test,nbpred)\n",
    "rf_false_positive_rate,rf_true_positive_rate,rf_threshold = roc_curve(y_test,rf_predicted)                                                             \n",
    "xgb_false_positive_rate,xgb_true_positive_rate,xgb_threshold = roc_curve(y_test,xgb_predicted)\n",
    "knn_false_positive_rate,knn_true_positive_rate,knn_threshold = roc_curve(y_test,knn_predicted)\n",
    "dt_false_positive_rate,dt_true_positive_rate,dt_threshold = roc_curve(y_test,dt_predicted)\n",
    "svc_false_positive_rate,svc_true_positive_rate,svc_threshold = roc_curve(y_test,svc_predicted)\n",
    "\n",
    "\n",
    "sns.set_style('whitegrid')\n",
    "plt.figure(figsize=(10,5))\n",
    "plt.title('Reciver Operating Characterstic Curve')\n",
    "plt.plot(lr_false_positive_rate,lr_true_positive_rate,label='Logistic Regression')\n",
    "plt.plot(nb_false_positive_rate,nb_true_positive_rate,label='Naive Bayes')\n",
    "plt.plot(rf_false_positive_rate,rf_true_positive_rate,label='Random Forest')\n",
    "plt.plot(xgb_false_positive_rate,xgb_true_positive_rate,label='Extreme Gradient Boost')\n",
    "plt.plot(knn_false_positive_rate,knn_true_positive_rate,label='K-Nearest Neighbor')\n",
    "plt.plot(dt_false_positive_rate,dt_true_positive_rate,label='Desion Tree')\n",
    "plt.plot(svc_false_positive_rate,svc_true_positive_rate,label='Support Vector Classifier')\n",
    "plt.plot([0,1],ls='--')\n",
    "plt.plot([0,0],[1,0],c='.5')\n",
    "plt.plot([1,1],c='.5')\n",
    "plt.ylabel('True positive rate')\n",
    "plt.xlabel('False positive rate')\n",
    "plt.legend()\n",
    "plt.show()"
   ]
  },
  {
   "cell_type": "code",
   "execution_count": null,
   "id": "48a01cc4",
   "metadata": {},
   "outputs": [],
   "source": []
  },
  {
   "cell_type": "code",
   "execution_count": null,
   "id": "df2a3cd1",
   "metadata": {},
   "outputs": [],
   "source": []
  },
  {
   "cell_type": "code",
   "execution_count": null,
   "id": "caff030e",
   "metadata": {},
   "outputs": [],
   "source": [
    "from sklearn.metrics import roc_curve\n",
    "# Gradient Boosting Classifier\n",
    "# Neural Classifier\n",
    "# Naives Bayes Classifier\n",
    "grd_fpr, grd_tpr, thresold = roc_curve(y_train, y_scores)\n",
    "neu_fpr, neu_tpr, neu_threshold = roc_curve(y_train, neural_y_scores)\n",
    "nav_fpr, nav_tpr, nav_threshold = roc_curve(y_train, naives_y_scores)"
   ]
  },
  {
   "cell_type": "code",
   "execution_count": null,
   "id": "634fa769",
   "metadata": {},
   "outputs": [],
   "source": [
    "def graph_roc_curve(false_positive_rate, true_positive_rate, label=None):\n",
    "    plt.figure(figsize=(10,6))\n",
    "    plt.title('ROC Curve \\n Gradient Boosting Classifier', fontsize=18)\n",
    "    plt.plot(false_positive_rate, true_positive_rate, label=label)\n",
    "    plt.plot([0, 1], [0, 1], '#0C8EE0')\n",
    "    plt.axis([0, 1, 0, 1])\n",
    "    plt.xlabel('False Positive Rate', fontsize=16)\n",
    "    plt.ylabel('True Positive Rate', fontsize=16)\n",
    "    plt.annotate('ROC Score of 91.73% \\n (Not the best score)', xy=(0.25, 0.9), xytext=(0.4, 0.85),\n",
    "            arrowprops=dict(facecolor='#F75118', shrink=0.05),\n",
    "            )\n",
    "    plt.annotate('Minimum ROC Score of 50% \\n (This is the minimum score to get)', xy=(0.5, 0.5), xytext=(0.6, 0.3),\n",
    "                arrowprops=dict(facecolor='#F75118', shrink=0.05),\n",
    "                )\n",
    "    \n",
    "    \n",
    "graph_roc_curve(grd_fpr, grd_tpr, threshold)\n",
    "plt.show()"
   ]
  },
  {
   "cell_type": "code",
   "execution_count": null,
   "id": "69c8f524",
   "metadata": {},
   "outputs": [],
   "source": []
  },
  {
   "cell_type": "code",
   "execution_count": null,
   "id": "7e6e02eb",
   "metadata": {},
   "outputs": [],
   "source": [
    "from sklearn.metrics import roc_auc_score\n",
    "\n",
    "print('Gradient Boost Classifier Score: ', roc_auc_score(y_train, y_scores))\n",
    "print('Neural Classifier Score: ', roc_auc_score(y_train, neural_y_scores))\n",
    "print('Naives Bayes Classifier: ', roc_auc_score(y_train, naives_y_scores))"
   ]
  },
  {
   "cell_type": "code",
   "execution_count": null,
   "id": "bc3ad043",
   "metadata": {},
   "outputs": [],
   "source": [
    "def graph_roc_curve_multiple(grd_fpr, grd_tpr, neu_fpr, neu_tpr, nav_fpr, nav_tpr):\n",
    "    plt.figure(figsize=(8,6))\n",
    "    plt.title('ROC Curve \\n Top 3 Classifiers', fontsize=18)\n",
    "    plt.plot(grd_fpr, grd_tpr, label='Gradient Boosting Classifier (Score = 91.72%)')\n",
    "    plt.plot(neu_fpr, neu_tpr, label='Neural Classifier (Score = 91.54%)')\n",
    "    plt.plot(nav_fpr, nav_tpr, label='Naives Bayes Classifier (Score = 80.33%)')\n",
    "    plt.plot([0, 1], [0, 1], 'k--')\n",
    "    plt.axis([0, 1, 0, 1])\n",
    "    plt.xlabel('False Positive Rate', fontsize=16)\n",
    "    plt.ylabel('True Positive Rate', fontsize=16)\n",
    "    plt.annotate('Minimum ROC Score of 50% \\n (This is the minimum score to get)', xy=(0.5, 0.5), xytext=(0.6, 0.3),\n",
    "                arrowprops=dict(facecolor='#6E726D', shrink=0.05),\n",
    "                )\n",
    "    plt.legend()\n",
    "    \n",
    "graph_roc_curve_multiple(grd_fpr, grd_tpr, neu_fpr, neu_tpr, nav_fpr, nav_tpr)\n",
    "plt.show()"
   ]
  }
 ],
 "metadata": {
  "kernelspec": {
   "display_name": "Python 3 (ipykernel)",
   "language": "python",
   "name": "python3"
  },
  "language_info": {
   "codemirror_mode": {
    "name": "ipython",
    "version": 3
   },
   "file_extension": ".py",
   "mimetype": "text/x-python",
   "name": "python",
   "nbconvert_exporter": "python",
   "pygments_lexer": "ipython3",
   "version": "3.8.12"
  }
 },
 "nbformat": 4,
 "nbformat_minor": 5
}
