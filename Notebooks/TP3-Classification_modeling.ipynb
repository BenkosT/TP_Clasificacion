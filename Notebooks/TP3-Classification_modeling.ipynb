{
 "cells": [
  {
   "cell_type": "code",
   "execution_count": 1,
   "id": "6885c386",
   "metadata": {},
   "outputs": [],
   "source": [
    "import pandas as pd\n",
    "import numpy as np\n",
    "import seaborn as sns\n",
    "import matplotlib.pyplot as plt"
   ]
  },
  {
   "cell_type": "code",
   "execution_count": 2,
   "id": "05920d97",
   "metadata": {},
   "outputs": [
    {
     "data": {
      "text/html": [
       "<div>\n",
       "<style scoped>\n",
       "    .dataframe tbody tr th:only-of-type {\n",
       "        vertical-align: middle;\n",
       "    }\n",
       "\n",
       "    .dataframe tbody tr th {\n",
       "        vertical-align: top;\n",
       "    }\n",
       "\n",
       "    .dataframe thead th {\n",
       "        text-align: right;\n",
       "    }\n",
       "</style>\n",
       "<table border=\"1\" class=\"dataframe\">\n",
       "  <thead>\n",
       "    <tr style=\"text-align: right;\">\n",
       "      <th></th>\n",
       "      <th>age</th>\n",
       "      <th>job</th>\n",
       "      <th>marital</th>\n",
       "      <th>education</th>\n",
       "      <th>default</th>\n",
       "      <th>housing</th>\n",
       "      <th>loan</th>\n",
       "      <th>contact</th>\n",
       "      <th>month</th>\n",
       "      <th>day_of_week</th>\n",
       "      <th>...</th>\n",
       "      <th>campaign</th>\n",
       "      <th>pdays</th>\n",
       "      <th>previous</th>\n",
       "      <th>poutcome</th>\n",
       "      <th>emp.var.rate</th>\n",
       "      <th>cons.price.idx</th>\n",
       "      <th>cons.conf.idx</th>\n",
       "      <th>euribor3m</th>\n",
       "      <th>nr.employed</th>\n",
       "      <th>y</th>\n",
       "    </tr>\n",
       "  </thead>\n",
       "  <tbody>\n",
       "    <tr>\n",
       "      <th>0</th>\n",
       "      <td>56</td>\n",
       "      <td>housemaid</td>\n",
       "      <td>married</td>\n",
       "      <td>basic.4y</td>\n",
       "      <td>no</td>\n",
       "      <td>no</td>\n",
       "      <td>no</td>\n",
       "      <td>telephone</td>\n",
       "      <td>may</td>\n",
       "      <td>mon</td>\n",
       "      <td>...</td>\n",
       "      <td>1</td>\n",
       "      <td>999</td>\n",
       "      <td>0</td>\n",
       "      <td>nonexistent</td>\n",
       "      <td>1.1</td>\n",
       "      <td>93.994</td>\n",
       "      <td>-36.4</td>\n",
       "      <td>4.857</td>\n",
       "      <td>5191.0</td>\n",
       "      <td>no</td>\n",
       "    </tr>\n",
       "    <tr>\n",
       "      <th>1</th>\n",
       "      <td>57</td>\n",
       "      <td>services</td>\n",
       "      <td>married</td>\n",
       "      <td>high.school</td>\n",
       "      <td>unknown</td>\n",
       "      <td>no</td>\n",
       "      <td>no</td>\n",
       "      <td>telephone</td>\n",
       "      <td>may</td>\n",
       "      <td>mon</td>\n",
       "      <td>...</td>\n",
       "      <td>1</td>\n",
       "      <td>999</td>\n",
       "      <td>0</td>\n",
       "      <td>nonexistent</td>\n",
       "      <td>1.1</td>\n",
       "      <td>93.994</td>\n",
       "      <td>-36.4</td>\n",
       "      <td>4.857</td>\n",
       "      <td>5191.0</td>\n",
       "      <td>no</td>\n",
       "    </tr>\n",
       "    <tr>\n",
       "      <th>2</th>\n",
       "      <td>37</td>\n",
       "      <td>services</td>\n",
       "      <td>married</td>\n",
       "      <td>high.school</td>\n",
       "      <td>no</td>\n",
       "      <td>yes</td>\n",
       "      <td>no</td>\n",
       "      <td>telephone</td>\n",
       "      <td>may</td>\n",
       "      <td>mon</td>\n",
       "      <td>...</td>\n",
       "      <td>1</td>\n",
       "      <td>999</td>\n",
       "      <td>0</td>\n",
       "      <td>nonexistent</td>\n",
       "      <td>1.1</td>\n",
       "      <td>93.994</td>\n",
       "      <td>-36.4</td>\n",
       "      <td>4.857</td>\n",
       "      <td>5191.0</td>\n",
       "      <td>no</td>\n",
       "    </tr>\n",
       "  </tbody>\n",
       "</table>\n",
       "<p>3 rows × 21 columns</p>\n",
       "</div>"
      ],
      "text/plain": [
       "   age        job  marital    education  default housing loan    contact  \\\n",
       "0   56  housemaid  married     basic.4y       no      no   no  telephone   \n",
       "1   57   services  married  high.school  unknown      no   no  telephone   \n",
       "2   37   services  married  high.school       no     yes   no  telephone   \n",
       "\n",
       "  month day_of_week  ...  campaign  pdays  previous     poutcome emp.var.rate  \\\n",
       "0   may         mon  ...         1    999         0  nonexistent          1.1   \n",
       "1   may         mon  ...         1    999         0  nonexistent          1.1   \n",
       "2   may         mon  ...         1    999         0  nonexistent          1.1   \n",
       "\n",
       "   cons.price.idx  cons.conf.idx  euribor3m  nr.employed   y  \n",
       "0          93.994          -36.4      4.857       5191.0  no  \n",
       "1          93.994          -36.4      4.857       5191.0  no  \n",
       "2          93.994          -36.4      4.857       5191.0  no  \n",
       "\n",
       "[3 rows x 21 columns]"
      ]
     },
     "execution_count": 2,
     "metadata": {},
     "output_type": "execute_result"
    }
   ],
   "source": [
    "data = pd.read_csv(\"../Data/bank-additional-full.csv\", sep = \";\")\n",
    "data.head(3)"
   ]
  },
  {
   "cell_type": "code",
   "execution_count": 3,
   "id": "d338b4fb",
   "metadata": {},
   "outputs": [
    {
     "data": {
      "text/plain": [
       "no     36548\n",
       "yes     4640\n",
       "Name: y, dtype: int64"
      ]
     },
     "execution_count": 3,
     "metadata": {},
     "output_type": "execute_result"
    }
   ],
   "source": [
    "data.y.value_counts()"
   ]
  },
  {
   "cell_type": "markdown",
   "id": "f17b255f",
   "metadata": {},
   "source": [
    "# Preparación del dataset"
   ]
  },
  {
   "cell_type": "markdown",
   "id": "65831cab",
   "metadata": {},
   "source": [
    "## Preparación en train y test"
   ]
  },
  {
   "cell_type": "markdown",
   "id": "0935579b",
   "metadata": {},
   "source": [
    "**Seleccion de variable target**"
   ]
  },
  {
   "cell_type": "code",
   "execution_count": 4,
   "id": "efb395af",
   "metadata": {},
   "outputs": [],
   "source": [
    "y = data.y\n",
    "X = data.drop([\"y\"], axis = 1)"
   ]
  },
  {
   "cell_type": "code",
   "execution_count": 5,
   "id": "f43134cc",
   "metadata": {},
   "outputs": [],
   "source": [
    "from sklearn.model_selection import train_test_split\n",
    "\n",
    "X_train, X_test, y_train, y_test = train_test_split(X, y, test_size = 0.2, random_state = 161, stratify= y)"
   ]
  },
  {
   "cell_type": "code",
   "execution_count": 6,
   "id": "e4c66bd1",
   "metadata": {},
   "outputs": [
    {
     "data": {
      "text/plain": [
       "no     0.887344\n",
       "yes    0.112656\n",
       "Name: y, dtype: float64"
      ]
     },
     "metadata": {},
     "output_type": "display_data"
    },
    {
     "data": {
      "text/plain": [
       "no     0.887351\n",
       "yes    0.112649\n",
       "Name: y, dtype: float64"
      ]
     },
     "metadata": {},
     "output_type": "display_data"
    }
   ],
   "source": [
    "display(y_train.value_counts(normalize=True))\n",
    "display(y_test.value_counts(normalize=True))"
   ]
  },
  {
   "cell_type": "code",
   "execution_count": 7,
   "id": "eb641029",
   "metadata": {},
   "outputs": [],
   "source": [
    "from sklearn import preprocessing\n",
    "\n",
    "le = preprocessing.LabelEncoder()\n",
    "y_train = le.fit_transform(y_train)\n",
    "y_test = le.transform(y_test)"
   ]
  },
  {
   "cell_type": "markdown",
   "id": "b81de27e",
   "metadata": {},
   "source": [
    "**Data train y test sin undersampling**"
   ]
  },
  {
   "cell_type": "code",
   "execution_count": 8,
   "id": "416fd116",
   "metadata": {},
   "outputs": [],
   "source": [
    "# Selección de la data de train y test en tipo numérica y categórica\n",
    "X_train_numerical = X_train.select_dtypes(exclude = \"object\")\n",
    "X_test_numerical = X_test.select_dtypes(exclude = \"object\")\n",
    "\n",
    "X_train_categorical = X_train.select_dtypes(include='object')\n",
    "X_test_categorical = X_test.select_dtypes(include='object')\n",
    "\n",
    "# Transformación de data de train y test categórica en numérica con OneHotEncoder\n",
    "from sklearn.preprocessing import OneHotEncoder\n",
    "\n",
    "OH_encoder = OneHotEncoder(handle_unknown = \"ignore\", sparse = False)\n",
    "X_train_categorical_OH =  pd.DataFrame (OH_encoder.fit_transform(X_train_categorical))\n",
    "X_train_categorical_OH.index = X_train_categorical.index\n",
    "\n",
    "X_test_categorical_OH = pd.DataFrame (OH_encoder.transform(X_test_categorical))\n",
    "X_test_categorical_OH.index = X_test_categorical.index\n",
    "\n",
    "# Estandarización de variables\n",
    "from sklearn.preprocessing import StandardScaler\n",
    "sc_X = StandardScaler()\n",
    "X_train_numerical_std = pd.DataFrame(sc_X.fit_transform(X_train_numerical))\n",
    "X_train_numerical_std.index = X_train_numerical.index\n",
    "\n",
    "X_test_numerical_std = pd.DataFrame(sc_X.transform(X_test_numerical))\n",
    "X_test_numerical_std.index = X_test_numerical.index\n",
    "\n",
    "\n",
    "# Concatenación de data numerica con categórica transformada con OneHotEncoder sin estandarizar\n",
    "X_train = pd.concat([X_train_numerical, X_train_categorical_OH], axis = 1)\n",
    "X_test = pd.concat([X_test_numerical, X_test_categorical_OH], axis = 1)\n",
    "\n",
    "# Concatenación de data numerica con categórica transformada con OneHotEncoder estandarizada\n",
    "X_train_std = pd.concat([X_train_numerical_std, X_train_categorical_OH], axis = 1)\n",
    "X_test_std = pd.concat([X_test_numerical_std, X_test_categorical_OH], axis = 1)"
   ]
  },
  {
   "cell_type": "markdown",
   "id": "11e94226",
   "metadata": {},
   "source": [
    "**Data train y test con undersampling**"
   ]
  },
  {
   "cell_type": "code",
   "execution_count": 9,
   "id": "e59d08e9",
   "metadata": {},
   "outputs": [],
   "source": [
    "# Balanceado de clases de target con RandomUnderSampler\n",
    "from imblearn.under_sampling import RandomUnderSampler\n",
    "undersampler = RandomUnderSampler(sampling_strategy= 0.3 ,random_state=123); # iguala las clases\n",
    "X_train_us,y_train_us = undersampler.fit_resample(X_train,y_train)\n",
    "\n",
    "# Selección de la data de train y test en tipo numérica y categórica\n",
    "X_train_numerical_us = X_train_us.select_dtypes(exclude = \"object\")\n",
    "X_test_numerical_us = X_test.select_dtypes(exclude = \"object\")\n",
    "\n",
    "X_train_categorical_us = X_train_us.select_dtypes(include='object')\n",
    "X_test_categorical_us = X_test.select_dtypes(include='object')\n",
    "\n",
    "# Transformación de data de train y test categórica en numérica con OneHotEncoder\n",
    "from sklearn.preprocessing import OneHotEncoder\n",
    "\n",
    "OH_encoder = OneHotEncoder(handle_unknown = \"ignore\", sparse = False)\n",
    "X_train_categorical_us_OH =  pd.DataFrame (OH_encoder.fit_transform(X_train_categorical_us))\n",
    "X_train_categorical_us_OH.index = X_train_categorical_us.index\n",
    "\n",
    "X_test_categorical_us_OH = pd.DataFrame (OH_encoder.transform(X_test_categorical_us))\n",
    "X_test_categorical_us_OH.index = X_test_categorical_us.index\n",
    "\n",
    "#Estandarización de variables\n",
    "from sklearn.preprocessing import StandardScaler\n",
    "sc_X = StandardScaler()\n",
    "X_train_numerical_us_std = pd.DataFrame(sc_X.fit_transform(X_train_numerical_us))\n",
    "X_train_numerical_us_std.index = X_train_numerical_us.index\n",
    "\n",
    "X_test_numerical_us_std = pd.DataFrame(sc_X.transform(X_test_numerical_us))\n",
    "X_test_numerical_us_std.index = X_test_numerical_us.index\n",
    "\n",
    "# Concatenación de data numerica con categórica transformada con OneHotEncoder sin estandarizar\n",
    "X_train_us = pd.concat([X_train_numerical_us, X_train_categorical_us_OH], axis = 1)\n",
    "X_test_us = pd.concat([X_test_numerical_us, X_test_categorical_us_OH], axis = 1)\n",
    "\n",
    "# Concatenación de data numerica con categórica transformada con OneHotEncoder estandarizada\n",
    "X_train_us_std = pd.concat([X_train_numerical_us_std, X_train_categorical_us_OH], axis = 1)\n",
    "X_test_us_std = pd.concat([X_test_numerical_us_std, X_test_categorical_us_OH], axis = 1)"
   ]
  },
  {
   "cell_type": "markdown",
   "id": "2fdc30d2",
   "metadata": {},
   "source": [
    "## **Logistic regression**"
   ]
  },
  {
   "cell_type": "code",
   "execution_count": 14,
   "id": "a92b0c5a",
   "metadata": {},
   "outputs": [],
   "source": [
    "from sklearn.model_selection import KFold\n",
    "from sklearn.model_selection import cross_val_score\n",
    "from sklearn.metrics import confusion_matrix, accuracy_score, roc_auc_score, recall_score\n",
    "k_fold = KFold(n_splits=2, shuffle=True, random_state=0)"
   ]
  },
  {
   "cell_type": "code",
   "execution_count": 19,
   "id": "9f0437ce",
   "metadata": {},
   "outputs": [
    {
     "name": "stdout",
     "output_type": "stream",
     "text": [
      "[[6861  449]\n",
      " [ 316  612]]\n",
      "0.6594827586206896\n",
      "0.6627155172413793\n"
     ]
    },
    {
     "data": {
      "text/plain": [
       "0.6553540194881635"
      ]
     },
     "execution_count": 19,
     "metadata": {},
     "output_type": "execute_result"
    }
   ],
   "source": [
    "from sklearn.linear_model import LogisticRegression\n",
    "logmodel = LogisticRegression(max_iter=1e3) \n",
    "logmodel.fit(X_train_us_std,y_train_us)\n",
    "\n",
    "logpredtrain = logmodel.predict(X_train_us_std)\n",
    "logpred = logmodel.predict(X_test_us_std)\n",
    "\n",
    "# Creación de las variables score para la posterior evaluación de modelos\n",
    "LG_recall_test = recall_score(y_test, logpred)\n",
    "LG_recall_train = recall_score(y_train_us,logpredtrain)\n",
    "\n",
    "print(confusion_matrix(y_test, logpred))\n",
    "print(recall_score(y_test, logpred))\n",
    "print(recall_score(y_train_us,logpredtrain))\n",
    "LOGCV = (cross_val_score(logmodel, X_train_us_std, y_train_us, cv=k_fold, n_jobs=1, scoring = 'recall').mean())\n",
    "LOGCV"
   ]
  },
  {
   "cell_type": "raw",
   "id": "25a4770d",
   "metadata": {},
   "source": [
    "Treshold\n",
    "y_pred_proba = logmodel.predict_proba(X_train_us_std)\n",
    "from sklearn.preprocessing import binarize\n",
    "y_pred_03 = binarize(y_pred_proba, threshold=0.3)[:,1]\n",
    "display(y_pred_03.sum())\n",
    "logpred = logmodel.predict(X_train_us_std)\n",
    "display(logpred.sum())\n",
    "\n",
    "print('Matrix Original')\n",
    "display(confusion_matrix(y_train_us,logpred))\n",
    "print('')\n",
    "print('Nueva Matrix')\n",
    "display(confusion_matrix(y_train_us,y_pred_03))"
   ]
  },
  {
   "cell_type": "markdown",
   "id": "bd1b7ecd",
   "metadata": {},
   "source": [
    "## **KNN**"
   ]
  },
  {
   "cell_type": "code",
   "execution_count": 22,
   "id": "17f26899",
   "metadata": {},
   "outputs": [],
   "source": [
    "from sklearn.neighbors import KNeighborsClassifier\n",
    "from sklearn.model_selection import cross_val_score"
   ]
  },
  {
   "cell_type": "code",
   "execution_count": 49,
   "id": "041daa25",
   "metadata": {},
   "outputs": [],
   "source": [
    "def scores_knn(X, y, start,stop,step):\n",
    "    \n",
    "    # Vamos a querer graficar los distintos valores del score de cross validation en función del hiperparámetro n_neighbors\n",
    "    # Para esto vamos a generar una lista de diccionarios que después se puede convertir fácilmente en DataFrame  \n",
    "   \n",
    "    # Lista de diccionarios - la inicializamos vacío y por fuera del for loop para ir alimentándola en cada iteración\n",
    "    scores_para_df = []\n",
    "    \n",
    "    \n",
    "    for i in range(start,stop,step):\n",
    "        \n",
    "        # En cada iteración, instanciamos el modelo con un hiperparámetro distinto\n",
    "        model = KNeighborsClassifier(n_neighbors=i)\n",
    "\n",
    "        # cross_val_scores nos devuelve un array de 5 resultados, uno por cada partición que hizo automáticamente CV\n",
    "        kf = KFold(n_splits=3, shuffle=True, random_state=10)\n",
    "        cv_scores = cross_val_score(model, X, y, cv=kf, scoring = \"recall\")\n",
    "\n",
    "        # Para cada valor de n_neighbours, creamos un diccionario con el valor de n_neighbours y la media y el desvío de los scores\n",
    "        dict_row_score = {'score_medio':np.mean(cv_scores),'score_std':np.std(cv_scores),'n_neighbours':i}\n",
    "        # Guardamos cada uno en la lista de diccionarios\n",
    "        scores_para_df.append(dict_row_score)\n",
    "    \n",
    "    # Creamos el DF a partir de la lista de resultados\n",
    "    df_scores = pd.DataFrame(scores_para_df)\n",
    "    \n",
    "    # Incorporamos los límites inferior y superior, restando y sumando el valor del desvío estándar, respectivamente\n",
    "    df_scores['limite_inferior'] = df_scores['score_medio'] - df_scores['score_std']\n",
    "    df_scores['limite_superior'] = df_scores['score_medio'] + df_scores['score_std']\n",
    "    \n",
    "    # Retornamos el DF\n",
    "    return df_scores"
   ]
  },
  {
   "cell_type": "code",
   "execution_count": 50,
   "id": "7dd03b7c",
   "metadata": {},
   "outputs": [],
   "source": [
    "df_scores= scores_knn(X_train_us_std, y_train_us, 1, 25, 5)"
   ]
  },
  {
   "cell_type": "code",
   "execution_count": 51,
   "id": "0fad2dba",
   "metadata": {},
   "outputs": [
    {
     "data": {
      "text/plain": [
       "[<matplotlib.lines.Line2D at 0x29a762eb430>]"
      ]
     },
     "execution_count": 51,
     "metadata": {},
     "output_type": "execute_result"
    },
    {
     "data": {
      "image/png": "[encoded data removed]",
      "text/plain": [
       "<Figure size 432x288 with 1 Axes>"
      ]
     },
     "metadata": {
      "needs_background": "light"
     },
     "output_type": "display_data"
    }
   ],
   "source": [
    "# Visualizamos los resultados\n",
    "\n",
    "plt.plot(df_scores['n_neighbours'], df_scores['limite_inferior'], color='r')\n",
    "plt.plot(df_scores['n_neighbours'], df_scores['score_medio'], color='b')\n",
    "plt.plot(df_scores['n_neighbours'], df_scores['limite_superior'], color='r')"
   ]
  },
  {
   "cell_type": "code",
   "execution_count": 36,
   "id": "c9a65111",
   "metadata": {},
   "outputs": [
    {
     "data": {
      "text/html": [
       "<div>\n",
       "<style scoped>\n",
       "    .dataframe tbody tr th:only-of-type {\n",
       "        vertical-align: middle;\n",
       "    }\n",
       "\n",
       "    .dataframe tbody tr th {\n",
       "        vertical-align: top;\n",
       "    }\n",
       "\n",
       "    .dataframe thead th {\n",
       "        text-align: right;\n",
       "    }\n",
       "</style>\n",
       "<table border=\"1\" class=\"dataframe\">\n",
       "  <thead>\n",
       "    <tr style=\"text-align: right;\">\n",
       "      <th></th>\n",
       "      <th>score_medio</th>\n",
       "      <th>score_std</th>\n",
       "      <th>n_neighbours</th>\n",
       "      <th>limite_inferior</th>\n",
       "      <th>limite_superior</th>\n",
       "    </tr>\n",
       "  </thead>\n",
       "  <tbody>\n",
       "    <tr>\n",
       "      <th>2</th>\n",
       "      <td>0.826173</td>\n",
       "      <td>0.006487</td>\n",
       "      <td>11</td>\n",
       "      <td>0.819686</td>\n",
       "      <td>0.83266</td>\n",
       "    </tr>\n",
       "  </tbody>\n",
       "</table>\n",
       "</div>"
      ],
      "text/plain": [
       "   score_medio  score_std  n_neighbours  limite_inferior  limite_superior\n",
       "2     0.826173   0.006487            11         0.819686          0.83266"
      ]
     },
     "execution_count": 36,
     "metadata": {},
     "output_type": "execute_result"
    }
   ],
   "source": [
    "# Identificamos el score máximo\n",
    "df_scores.loc[df_scores.score_medio == df_scores.score_medio.max()]"
   ]
  },
  {
   "cell_type": "code",
   "execution_count": 37,
   "id": "923d7ad4",
   "metadata": {},
   "outputs": [
    {
     "data": {
      "text/plain": [
       "11"
      ]
     },
     "execution_count": 37,
     "metadata": {},
     "output_type": "execute_result"
    }
   ],
   "source": [
    "# Asignamos el valor del k óptimo a una variable\n",
    "best_k = df_scores.loc[df_scores.score_medio == df_scores.score_medio.max(),'n_neighbours'].values[0]\n",
    "best_k"
   ]
  },
  {
   "cell_type": "code",
   "execution_count": 41,
   "id": "f00ed112",
   "metadata": {},
   "outputs": [
    {
     "data": {
      "text/plain": [
       "KNeighborsClassifier(n_neighbors=1)"
      ]
     },
     "execution_count": 41,
     "metadata": {},
     "output_type": "execute_result"
    }
   ],
   "source": [
    "# Elegimos el modelo óptimo que nos había indicado cross validation\n",
    "model = KNeighborsClassifier(n_neighbors=best_k)\n",
    "\n",
    "# Lo ajustamos sobre datos de entrenamiento\n",
    "model.fit(X_train_us_std, y_train_us)"
   ]
  },
  {
   "cell_type": "code",
   "execution_count": 42,
   "id": "e4a2e224",
   "metadata": {},
   "outputs": [
    {
     "data": {
      "text/plain": [
       "1.0"
      ]
     },
     "execution_count": 42,
     "metadata": {},
     "output_type": "execute_result"
    }
   ],
   "source": [
    "from sklearn.metrics import roc_auc_score, recall_score\n",
    "\n",
    "# Evaluamos qué accuracy obtenemos en train\n",
    "recall_score(y_train_us, model.predict(X_train_us_std))\n"
   ]
  },
  {
   "cell_type": "code",
   "execution_count": 43,
   "id": "ce1b01f3",
   "metadata": {},
   "outputs": [
    {
     "name": "stdout",
     "output_type": "stream",
     "text": [
      "[[12373     0]\n",
      " [    0  3712]]\n",
      "1.0\n"
     ]
    }
   ],
   "source": [
    "# Lo utilizamos para predecir en train\n",
    "y_pred = model.predict(X_train_us_std)\n",
    "\n",
    "# Computamos el accuracy score en train\n",
    "print(confusion_matrix(y_train_us, y_pred))\n",
    "print(recall_score(y_train_us, y_pred))"
   ]
  },
  {
   "cell_type": "code",
   "execution_count": 30,
   "id": "a1c1f678",
   "metadata": {},
   "outputs": [
    {
     "name": "stdout",
     "output_type": "stream",
     "text": [
      "[[6500  810]\n",
      " [ 458  470]]\n",
      "0.5064655172413793\n"
     ]
    }
   ],
   "source": [
    "# Lo utilizamos para predecir en test\n",
    "y_pred = model.predict(X_test_us_std)\n",
    "\n",
    "# Computamos el accuracy score en test\n",
    "print(confusion_matrix(y_test, y_pred))\n",
    "print(recall_score(y_test, y_pred))"
   ]
  },
  {
   "cell_type": "markdown",
   "id": "8b2e0915",
   "metadata": {},
   "source": [
    "## **Naive Bayes**"
   ]
  },
  {
   "cell_type": "code",
   "execution_count": 22,
   "id": "8031f335",
   "metadata": {},
   "outputs": [
    {
     "name": "stdout",
     "output_type": "stream",
     "text": [
      "[[5294 2016]\n",
      " [ 158  770]]\n",
      "78.0\n"
     ]
    },
    {
     "data": {
      "text/plain": [
       "0.8259332714186445"
      ]
     },
     "execution_count": 22,
     "metadata": {},
     "output_type": "execute_result"
    }
   ],
   "source": [
    "from sklearn.naive_bayes import GaussianNB\n",
    "gaussiannb = GaussianNB()\n",
    "gaussiannb.fit(X_train_us_std, y_train_us)\n",
    "gaussiannbpred = gaussiannb.predict(X_test_us_std)\n",
    "probs = gaussiannb.predict(X_test_us_std)\n",
    "\n",
    "print(confusion_matrix(y_test, gaussiannbpred ))\n",
    "print(round(roc_auc_score(y_test, gaussiannbpred),2)*100)\n",
    "GAUSIAN = (cross_val_score(gaussiannb, X_train_us_std, y_train_us, cv=k_fold, n_jobs=1, scoring = 'roc_auc').mean())\n",
    "GAUSIAN"
   ]
  },
  {
   "cell_type": "markdown",
   "id": "788a1319",
   "metadata": {},
   "source": [
    "## **Decision TreeClassifier**"
   ]
  },
  {
   "cell_type": "code",
   "execution_count": 23,
   "id": "573342a6",
   "metadata": {},
   "outputs": [
    {
     "name": "stdout",
     "output_type": "stream",
     "text": [
      "[[6836  474]\n",
      " [ 420  508]]\n",
      "89.0\n"
     ]
    }
   ],
   "source": [
    "from sklearn.tree import DecisionTreeClassifier\n",
    "dtree = DecisionTreeClassifier(criterion='gini') #criterion = entopy, gini\n",
    "dtree.fit(X_train, y_train)\n",
    "dtreepred = dtree.predict(X_test)\n",
    "\n",
    "print(confusion_matrix(y_test, dtreepred))\n",
    "print(round(accuracy_score(y_test, dtreepred),2)*100)\n",
    "DTREECV = (cross_val_score(dtree, X_train, y_train, cv=k_fold, n_jobs=1, scoring = 'roc_auc').mean())"
   ]
  },
  {
   "cell_type": "markdown",
   "id": "33d19426",
   "metadata": {},
   "source": [
    "## **Regresion Logistica con regularización**"
   ]
  },
  {
   "cell_type": "code",
   "execution_count": null,
   "id": "8df465ff",
   "metadata": {},
   "outputs": [],
   "source": [
    "param_grid = {'C': np.logspace(-4, 4, 50),\n",
    "             'penalty':['l1', 'l2']}\n",
    "clf = GridSearchCV(LogisticRegression(random_state=0), param_grid,cv=5, verbose=0,n_jobs=-1)\n",
    "best_model = clf.fit(X_train,y_train)\n",
    "print(best_model.best_estimator_)\n",
    "print(\"The mean accuracy of the model is:\",best_model.score(X_test,y_test))"
   ]
  },
  {
   "cell_type": "code",
   "execution_count": null,
   "id": "4482dd5e",
   "metadata": {},
   "outputs": [],
   "source": [
    "logreg = LogisticRegression(C=0.18420699693267145, random_state=0)\n",
    "logreg.fit(X_train, y_train)\n",
    "y_pred = logreg.predict(X_test)\n",
    "print('Accuracy of logistic regression classifier on test set: {:.2f}'.format(logreg.score(X_test, y_test)))"
   ]
  },
  {
   "cell_type": "markdown",
   "id": "74755ea7",
   "metadata": {},
   "source": [
    "## **Comparación de los modelos**"
   ]
  },
  {
   "cell_type": "code",
   "execution_count": 36,
   "id": "1a38e35d",
   "metadata": {},
   "outputs": [
    {
     "ename": "NameError",
     "evalue": "name 'DTC' is not defined",
     "output_type": "error",
     "traceback": [
      "\u001b[1;31m---------------------------------------------------------------------------\u001b[0m",
      "\u001b[1;31mNameError\u001b[0m                                 Traceback (most recent call last)",
      "Input \u001b[1;32mIn [36]\u001b[0m, in \u001b[0;36m<cell line: 1>\u001b[1;34m()\u001b[0m\n\u001b[0;32m      1\u001b[0m models \u001b[38;5;241m=\u001b[39m pd\u001b[38;5;241m.\u001b[39mDataFrame({\n\u001b[0;32m      2\u001b[0m                 \u001b[38;5;124m'\u001b[39m\u001b[38;5;124mModels\u001b[39m\u001b[38;5;124m'\u001b[39m: [\u001b[38;5;124m'\u001b[39m\u001b[38;5;124mDecision Tree Classifier\u001b[39m\u001b[38;5;124m'\u001b[39m,\n\u001b[0;32m      3\u001b[0m                            \u001b[38;5;124m'\u001b[39m\u001b[38;5;124mK-Near Neighbors\u001b[39m\u001b[38;5;124m'\u001b[39m, \u001b[38;5;124m'\u001b[39m\u001b[38;5;124mLogistic Model\u001b[39m\u001b[38;5;124m'\u001b[39m, \u001b[38;5;124m'\u001b[39m\u001b[38;5;124mGausian NB\u001b[39m\u001b[38;5;124m'\u001b[39m],\n\u001b[1;32m----> 4\u001b[0m                 \u001b[38;5;124m'\u001b[39m\u001b[38;5;124mScore Train\u001b[39m\u001b[38;5;124m'\u001b[39m:  [\u001b[43mDTC\u001b[49m, K\u001b[38;5;241m-\u001b[39mNEAR, LOGCV, GAUSIAN],\n\u001b[0;32m      5\u001b[0m                 \u001b[38;5;124m'\u001b[39m\u001b[38;5;124mScore Test\u001b[39m\u001b[38;5;124m'\u001b[39m: [DTC, K\u001b[38;5;241m-\u001b[39mNEAR, LOGCV, GAUSIAN]})\n\u001b[0;32m      7\u001b[0m models\u001b[38;5;241m.\u001b[39msort_values(by\u001b[38;5;241m=\u001b[39m\u001b[38;5;124m'\u001b[39m\u001b[38;5;124mScore\u001b[39m\u001b[38;5;124m'\u001b[39m, ascending\u001b[38;5;241m=\u001b[39m\u001b[38;5;28;01mFalse\u001b[39;00m)\n",
      "\u001b[1;31mNameError\u001b[0m: name 'DTC' is not defined"
     ]
    }
   ],
   "source": [
    "models = pd.DataFrame({\n",
    "                'Models': ['Decision Tree Classifier',\n",
    "                           'K-Near Neighbors', 'Logistic Model', 'Gausian NB'],\n",
    "                'Score Train':  [DTC, K-NEAR, LG_recall_train, GAUSIAN],\n",
    "                'Score Test': [DTC, K-NEAR, LG_recall_test, GAUSIAN]})\n",
    "\n",
    "models.sort_values(by='Score', ascending=False)"
   ]
  },
  {
   "cell_type": "code",
   "execution_count": null,
   "id": "cb770f95",
   "metadata": {},
   "outputs": [],
   "source": []
  }
 ],
 "metadata": {
  "kernelspec": {
   "display_name": "Python 3 (ipykernel)",
   "language": "python",
   "name": "python3"
  },
  "language_info": {
   "codemirror_mode": {
    "name": "ipython",
    "version": 3
   },
   "file_extension": ".py",
   "mimetype": "text/x-python",
   "name": "python",
   "nbconvert_exporter": "python",
   "pygments_lexer": "ipython3",
   "version": "3.8.12"
  }
 },
 "nbformat": 4,
 "nbformat_minor": 5
}
