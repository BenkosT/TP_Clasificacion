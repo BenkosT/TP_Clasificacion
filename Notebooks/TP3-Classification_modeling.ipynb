{
 "cells": [
  {
   "cell_type": "code",
   "execution_count": 1,
   "id": "13b1fb4f",
   "metadata": {},
   "outputs": [],
   "source": [
    "import pandas as pd\n",
    "import numpy as np\n",
    "import seaborn as sns\n",
    "import matplotlib.pyplot as plt"
   ]
  },
  {
   "cell_type": "code",
   "execution_count": 2,
   "id": "2904dd99",
   "metadata": {},
   "outputs": [
    {
     "data": {
      "text/html": [
       "<div>\n",
       "<style scoped>\n",
       "    .dataframe tbody tr th:only-of-type {\n",
       "        vertical-align: middle;\n",
       "    }\n",
       "\n",
       "    .dataframe tbody tr th {\n",
       "        vertical-align: top;\n",
       "    }\n",
       "\n",
       "    .dataframe thead th {\n",
       "        text-align: right;\n",
       "    }\n",
       "</style>\n",
       "<table border=\"1\" class=\"dataframe\">\n",
       "  <thead>\n",
       "    <tr style=\"text-align: right;\">\n",
       "      <th></th>\n",
       "      <th>age</th>\n",
       "      <th>job</th>\n",
       "      <th>marital</th>\n",
       "      <th>education</th>\n",
       "      <th>default</th>\n",
       "      <th>housing</th>\n",
       "      <th>loan</th>\n",
       "      <th>contact</th>\n",
       "      <th>month</th>\n",
       "      <th>day_of_week</th>\n",
       "      <th>...</th>\n",
       "      <th>campaign</th>\n",
       "      <th>pdays</th>\n",
       "      <th>previous</th>\n",
       "      <th>poutcome</th>\n",
       "      <th>emp.var.rate</th>\n",
       "      <th>cons.price.idx</th>\n",
       "      <th>cons.conf.idx</th>\n",
       "      <th>euribor3m</th>\n",
       "      <th>nr.employed</th>\n",
       "      <th>y</th>\n",
       "    </tr>\n",
       "  </thead>\n",
       "  <tbody>\n",
       "    <tr>\n",
       "      <th>0</th>\n",
       "      <td>56</td>\n",
       "      <td>housemaid</td>\n",
       "      <td>married</td>\n",
       "      <td>basic.4y</td>\n",
       "      <td>no</td>\n",
       "      <td>no</td>\n",
       "      <td>no</td>\n",
       "      <td>telephone</td>\n",
       "      <td>may</td>\n",
       "      <td>mon</td>\n",
       "      <td>...</td>\n",
       "      <td>1</td>\n",
       "      <td>999</td>\n",
       "      <td>0</td>\n",
       "      <td>nonexistent</td>\n",
       "      <td>1.1</td>\n",
       "      <td>93.994</td>\n",
       "      <td>-36.4</td>\n",
       "      <td>4.857</td>\n",
       "      <td>5191.0</td>\n",
       "      <td>no</td>\n",
       "    </tr>\n",
       "    <tr>\n",
       "      <th>1</th>\n",
       "      <td>57</td>\n",
       "      <td>services</td>\n",
       "      <td>married</td>\n",
       "      <td>high.school</td>\n",
       "      <td>unknown</td>\n",
       "      <td>no</td>\n",
       "      <td>no</td>\n",
       "      <td>telephone</td>\n",
       "      <td>may</td>\n",
       "      <td>mon</td>\n",
       "      <td>...</td>\n",
       "      <td>1</td>\n",
       "      <td>999</td>\n",
       "      <td>0</td>\n",
       "      <td>nonexistent</td>\n",
       "      <td>1.1</td>\n",
       "      <td>93.994</td>\n",
       "      <td>-36.4</td>\n",
       "      <td>4.857</td>\n",
       "      <td>5191.0</td>\n",
       "      <td>no</td>\n",
       "    </tr>\n",
       "    <tr>\n",
       "      <th>2</th>\n",
       "      <td>37</td>\n",
       "      <td>services</td>\n",
       "      <td>married</td>\n",
       "      <td>high.school</td>\n",
       "      <td>no</td>\n",
       "      <td>yes</td>\n",
       "      <td>no</td>\n",
       "      <td>telephone</td>\n",
       "      <td>may</td>\n",
       "      <td>mon</td>\n",
       "      <td>...</td>\n",
       "      <td>1</td>\n",
       "      <td>999</td>\n",
       "      <td>0</td>\n",
       "      <td>nonexistent</td>\n",
       "      <td>1.1</td>\n",
       "      <td>93.994</td>\n",
       "      <td>-36.4</td>\n",
       "      <td>4.857</td>\n",
       "      <td>5191.0</td>\n",
       "      <td>no</td>\n",
       "    </tr>\n",
       "  </tbody>\n",
       "</table>\n",
       "<p>3 rows × 21 columns</p>\n",
       "</div>"
      ],
      "text/plain": [
       "   age        job  marital    education  default housing loan    contact  \\\n",
       "0   56  housemaid  married     basic.4y       no      no   no  telephone   \n",
       "1   57   services  married  high.school  unknown      no   no  telephone   \n",
       "2   37   services  married  high.school       no     yes   no  telephone   \n",
       "\n",
       "  month day_of_week  ...  campaign  pdays  previous     poutcome emp.var.rate  \\\n",
       "0   may         mon  ...         1    999         0  nonexistent          1.1   \n",
       "1   may         mon  ...         1    999         0  nonexistent          1.1   \n",
       "2   may         mon  ...         1    999         0  nonexistent          1.1   \n",
       "\n",
       "   cons.price.idx  cons.conf.idx  euribor3m  nr.employed   y  \n",
       "0          93.994          -36.4      4.857       5191.0  no  \n",
       "1          93.994          -36.4      4.857       5191.0  no  \n",
       "2          93.994          -36.4      4.857       5191.0  no  \n",
       "\n",
       "[3 rows x 21 columns]"
      ]
     },
     "execution_count": 2,
     "metadata": {},
     "output_type": "execute_result"
    }
   ],
   "source": [
    "data = pd.read_csv(\"../Data/bank-additional-full.csv\", sep = \";\")\n",
    "data.head(3)"
   ]
  },
  {
   "cell_type": "code",
   "execution_count": 3,
   "id": "c7fb8e9c",
   "metadata": {},
   "outputs": [
    {
     "data": {
      "text/plain": [
       "no     36548\n",
       "yes     4640\n",
       "Name: y, dtype: int64"
      ]
     },
     "execution_count": 3,
     "metadata": {},
     "output_type": "execute_result"
    }
   ],
   "source": [
    "data.y.value_counts()"
   ]
  },
  {
   "cell_type": "markdown",
   "id": "0ed01ef5",
   "metadata": {},
   "source": [
    "# Preparación del dataset"
   ]
  },
  {
   "cell_type": "markdown",
   "id": "24c802cc",
   "metadata": {},
   "source": [
    "## Preparación en train y test"
   ]
  },
  {
   "cell_type": "markdown",
   "id": "8bf445ae",
   "metadata": {},
   "source": [
    "**Seleccion de variable target**"
   ]
  },
  {
   "cell_type": "code",
   "execution_count": 4,
   "id": "6094b34a",
   "metadata": {},
   "outputs": [],
   "source": [
    "y = data.y\n",
    "X = data.drop([\"y\"], axis = 1)"
   ]
  },
  {
   "cell_type": "code",
   "execution_count": 5,
   "id": "aedae574",
   "metadata": {},
   "outputs": [],
   "source": [
    "from sklearn.model_selection import train_test_split\n",
    "\n",
    "X_train, X_test, y_train, y_test = train_test_split(X, y, test_size = 0.2, random_state = 161, stratify= y)"
   ]
  },
  {
   "cell_type": "code",
   "execution_count": 6,
   "id": "5aaf17c1",
   "metadata": {},
   "outputs": [
    {
     "data": {
      "text/plain": [
       "no     0.887344\n",
       "yes    0.112656\n",
       "Name: y, dtype: float64"
      ]
     },
     "metadata": {},
     "output_type": "display_data"
    },
    {
     "data": {
      "text/plain": [
       "no     0.887351\n",
       "yes    0.112649\n",
       "Name: y, dtype: float64"
      ]
     },
     "metadata": {},
     "output_type": "display_data"
    }
   ],
   "source": [
    "display(y_train.value_counts(normalize=True))\n",
    "display(y_test.value_counts(normalize=True))"
   ]
  },
  {
   "cell_type": "code",
   "execution_count": 7,
   "id": "bfff84fb",
   "metadata": {},
   "outputs": [],
   "source": [
    "from sklearn import preprocessing\n",
    "\n",
    "le = preprocessing.LabelEncoder()\n",
    "y_train = le.fit_transform(y_train)\n",
    "y_test = le.transform(y_test)"
   ]
  },
  {
   "cell_type": "markdown",
   "id": "e6fe40e4",
   "metadata": {},
   "source": [
    "**Data train y test con undersampling**"
   ]
  },
  {
   "cell_type": "code",
   "execution_count": 8,
   "id": "5ece2af1",
   "metadata": {},
   "outputs": [],
   "source": [
    "# Balanceado de clases de target con RandomUnderSampler\n",
    "from imblearn.under_sampling import RandomUnderSampler\n",
    "undersampler = RandomUnderSampler(sampling_strategy= 0.3 ,random_state=123); # iguala las clases\n",
    "X_train_us,y_train_us = undersampler.fit_resample(X_train,y_train)\n",
    "\n",
    "# Selección de la data de train y test en tipo numérica y categórica\n",
    "X_train_numerical_us = X_train_us.select_dtypes(exclude = \"object\")\n",
    "X_test_numerical_us = X_test.select_dtypes(exclude = \"object\")\n",
    "\n",
    "X_train_categorical_us = X_train_us.select_dtypes(include='object')\n",
    "X_test_categorical_us = X_test.select_dtypes(include='object')\n",
    "\n",
    "# Transformación de data de train y test categórica en numérica con OneHotEncoder\n",
    "from sklearn.preprocessing import OneHotEncoder\n",
    "\n",
    "OH_encoder = OneHotEncoder(handle_unknown = \"ignore\", sparse = False)\n",
    "X_train_categorical_us_OH =  pd.DataFrame (OH_encoder.fit_transform(X_train_categorical_us))\n",
    "X_train_categorical_us_OH.index = X_train_categorical_us.index\n",
    "\n",
    "X_test_categorical_us_OH = pd.DataFrame (OH_encoder.transform(X_test_categorical_us))\n",
    "X_test_categorical_us_OH.index = X_test_categorical_us.index\n",
    "\n",
    "#Estandarización de variables\n",
    "from sklearn.preprocessing import StandardScaler\n",
    "sc_X = StandardScaler()\n",
    "X_train_numerical_us_std = pd.DataFrame(sc_X.fit_transform(X_train_numerical_us))\n",
    "X_train_numerical_us_std.index = X_train_numerical_us.index\n",
    "\n",
    "X_test_numerical_us_std = pd.DataFrame(sc_X.transform(X_test_numerical_us))\n",
    "X_test_numerical_us_std.index = X_test_numerical_us.index\n",
    "\n",
    "# Concatenación de data numerica con categórica transformada con OneHotEncoder sin estandarizar\n",
    "X_train_us = pd.concat([X_train_numerical_us, X_train_categorical_us_OH], axis = 1)\n",
    "X_test_us = pd.concat([X_test_numerical_us, X_test_categorical_us_OH], axis = 1)\n",
    "\n",
    "# Concatenación de data numerica con categórica transformada con OneHotEncoder estandarizada\n",
    "X_train_us_std = pd.concat([X_train_numerical_us_std, X_train_categorical_us_OH], axis = 1)\n",
    "X_test_us_std = pd.concat([X_test_numerical_us_std, X_test_categorical_us_OH], axis = 1)"
   ]
  },
  {
   "cell_type": "markdown",
   "id": "cdc62b3a",
   "metadata": {},
   "source": [
    "## **F2 Score**"
   ]
  },
  {
   "cell_type": "code",
   "execution_count": 9,
   "id": "14f0ecb5",
   "metadata": {},
   "outputs": [],
   "source": [
    "from sklearn.metrics import make_scorer"
   ]
  },
  {
   "cell_type": "code",
   "execution_count": 13,
   "id": "379c8691",
   "metadata": {},
   "outputs": [],
   "source": [
    "# Creacion de score f2 \n",
    "ftwo_scorer = make_scorer(fbeta_score, beta=2)"
   ]
  },
  {
   "cell_type": "markdown",
   "id": "e288a007",
   "metadata": {},
   "source": [
    "## **Logistic regression**"
   ]
  },
  {
   "cell_type": "markdown",
   "id": "39a2d784",
   "metadata": {},
   "source": [
    "## **Regresion Logistica con regularización**"
   ]
  },
  {
   "cell_type": "code",
   "execution_count": 12,
   "id": "0fd5afdb",
   "metadata": {},
   "outputs": [],
   "source": [
    "from sklearn.model_selection import KFold, cross_val_score, GridSearchCV, StratifiedKFold\n",
    "from sklearn.metrics import confusion_matrix, accuracy_score, roc_auc_score, recall_score, fbeta_score, make_scorer\n",
    "from sklearn.linear_model import LogisticRegression"
   ]
  },
  {
   "cell_type": "code",
   "execution_count": 14,
   "id": "f2ce4edb",
   "metadata": {},
   "outputs": [
    {
     "name": "stdout",
     "output_type": "stream",
     "text": [
      "LogisticRegression(C=78.47599703514607, max_iter=1000.0)\n",
      "La media del f2 score del modelo es: 0.6740707027530043\n",
      "El mejor hiperparametro C del modelo es:  {'C': 78.47599703514607}\n"
     ]
    }
   ],
   "source": [
    "# Seteado de grid search\n",
    "k_range = np.logspace(-4, 4, 20)\n",
    "logreg = LogisticRegression(max_iter = 1e3)\n",
    "param_grid = {'C': k_range}\n",
    "k_fold =  StratifiedKFold(n_splits=3, shuffle=True, random_state=10)\n",
    "\n",
    "#Instanciado de GridSearchCV\n",
    "gridlogreg = GridSearchCV ( logreg, param_grid, cv = k_fold, verbose=0, scoring = ftwo_scorer)\n",
    "# Fiteado del modelo de regresión logistica con grid search\n",
    "gridlogreg = gridlogreg.fit(X_train_us_std,y_train_us)\n",
    "\n",
    "print(gridlogreg.best_estimator_)\n",
    "print(\"La media del f2 score del modelo es:\", gridlogreg.best_score_)\n",
    "print(\"El mejor hiperparametro C del modelo es: \", gridlogreg.best_params_)"
   ]
  },
  {
   "cell_type": "code",
   "execution_count": 15,
   "id": "f0c9eee4",
   "metadata": {},
   "outputs": [
    {
     "data": {
      "text/html": [
       "<div>\n",
       "<style scoped>\n",
       "    .dataframe tbody tr th:only-of-type {\n",
       "        vertical-align: middle;\n",
       "    }\n",
       "\n",
       "    .dataframe tbody tr th {\n",
       "        vertical-align: top;\n",
       "    }\n",
       "\n",
       "    .dataframe thead th {\n",
       "        text-align: right;\n",
       "    }\n",
       "</style>\n",
       "<table border=\"1\" class=\"dataframe\">\n",
       "  <thead>\n",
       "    <tr style=\"text-align: right;\">\n",
       "      <th></th>\n",
       "      <th>mean_fit_time</th>\n",
       "      <th>std_fit_time</th>\n",
       "      <th>mean_score_time</th>\n",
       "      <th>std_score_time</th>\n",
       "      <th>param_C</th>\n",
       "      <th>params</th>\n",
       "      <th>split0_test_score</th>\n",
       "      <th>split1_test_score</th>\n",
       "      <th>split2_test_score</th>\n",
       "      <th>mean_test_score</th>\n",
       "      <th>std_test_score</th>\n",
       "      <th>rank_test_score</th>\n",
       "    </tr>\n",
       "  </thead>\n",
       "  <tbody>\n",
       "    <tr>\n",
       "      <th>0</th>\n",
       "      <td>0.090813</td>\n",
       "      <td>0.081083</td>\n",
       "      <td>0.004613</td>\n",
       "      <td>0.000575</td>\n",
       "      <td>0.0001</td>\n",
       "      <td>{'C': 0.0001}</td>\n",
       "      <td>0.053881</td>\n",
       "      <td>0.065659</td>\n",
       "      <td>0.065776</td>\n",
       "      <td>0.061772</td>\n",
       "      <td>0.005580</td>\n",
       "      <td>20</td>\n",
       "    </tr>\n",
       "    <tr>\n",
       "      <th>1</th>\n",
       "      <td>0.034989</td>\n",
       "      <td>0.002127</td>\n",
       "      <td>0.006325</td>\n",
       "      <td>0.001257</td>\n",
       "      <td>0.000263665</td>\n",
       "      <td>{'C': 0.00026366508987303583}</td>\n",
       "      <td>0.288298</td>\n",
       "      <td>0.306428</td>\n",
       "      <td>0.303173</td>\n",
       "      <td>0.299299</td>\n",
       "      <td>0.007892</td>\n",
       "      <td>19</td>\n",
       "    </tr>\n",
       "    <tr>\n",
       "      <th>2</th>\n",
       "      <td>0.047453</td>\n",
       "      <td>0.005497</td>\n",
       "      <td>0.005793</td>\n",
       "      <td>0.001649</td>\n",
       "      <td>0.000695193</td>\n",
       "      <td>{'C': 0.0006951927961775605}</td>\n",
       "      <td>0.427745</td>\n",
       "      <td>0.445162</td>\n",
       "      <td>0.445785</td>\n",
       "      <td>0.439564</td>\n",
       "      <td>0.008362</td>\n",
       "      <td>18</td>\n",
       "    </tr>\n",
       "  </tbody>\n",
       "</table>\n",
       "</div>"
      ],
      "text/plain": [
       "   mean_fit_time  std_fit_time  mean_score_time  std_score_time      param_C  \\\n",
       "0       0.090813      0.081083         0.004613        0.000575       0.0001   \n",
       "1       0.034989      0.002127         0.006325        0.001257  0.000263665   \n",
       "2       0.047453      0.005497         0.005793        0.001649  0.000695193   \n",
       "\n",
       "                          params  split0_test_score  split1_test_score  \\\n",
       "0                  {'C': 0.0001}           0.053881           0.065659   \n",
       "1  {'C': 0.00026366508987303583}           0.288298           0.306428   \n",
       "2   {'C': 0.0006951927961775605}           0.427745           0.445162   \n",
       "\n",
       "   split2_test_score  mean_test_score  std_test_score  rank_test_score  \n",
       "0           0.065776         0.061772        0.005580               20  \n",
       "1           0.303173         0.299299        0.007892               19  \n",
       "2           0.445785         0.439564        0.008362               18  "
      ]
     },
     "execution_count": 15,
     "metadata": {},
     "output_type": "execute_result"
    }
   ],
   "source": [
    "pd.DataFrame(gridlogreg.cv_results_).head(3)"
   ]
  },
  {
   "cell_type": "code",
   "execution_count": 16,
   "id": "d8c3229b",
   "metadata": {},
   "outputs": [
    {
     "data": {
      "text/plain": [
       "LogisticRegression(C=78.47599703514607, max_iter=1000.0)"
      ]
     },
     "execution_count": 16,
     "metadata": {},
     "output_type": "execute_result"
    }
   ],
   "source": [
    "from sklearn.linear_model import LogisticRegression\n",
    "# Fiteado de modelo de regresion logistica con mejor hiperparametro C\n",
    "best_hip = 78.47599703514607\n",
    "logmodel = LogisticRegression( C = best_hip, max_iter=1e3) \n",
    "logmodel.fit(X_train_us_std,y_train_us)"
   ]
  },
  {
   "cell_type": "code",
   "execution_count": 17,
   "id": "0f67e366",
   "metadata": {},
   "outputs": [
    {
     "name": "stdout",
     "output_type": "stream",
     "text": [
      "[[11649   724]\n",
      " [ 1253  2459]]\n",
      "[[6866  444]\n",
      " [ 315  613]]\n",
      "0.6818812045920912\n",
      "0.6426923883413713\n"
     ]
    }
   ],
   "source": [
    "logpredtrain = logmodel.predict(X_train_us_std)\n",
    "logpredtest = logmodel.predict(X_test_us_std)\n",
    "\n",
    "# Creación de las variables score para la posterior evaluación de modelos\n",
    "LG_ftwo_train = ftwo_scorer(logmodel,X_train_us_std,y_train_us)\n",
    "LG_ftwo_test = ftwo_scorer(logmodel,X_test_us_std,y_test)\n",
    "\n",
    "\n",
    "print(confusion_matrix(y_train_us, logpredtrain))\n",
    "print(confusion_matrix(y_test, logpredtest))\n",
    "print(LG_ftwo_train)\n",
    "print(LG_ftwo_test)"
   ]
  },
  {
   "cell_type": "raw",
   "id": "c3aefc40",
   "metadata": {},
   "source": [
    "Treshold\n",
    "y_pred_proba = logmodel.predict_proba(X_train_us_std)\n",
    "from sklearn.preprocessing import binarize\n",
    "y_pred_03 = binarize(y_pred_proba, threshold=0.3)[:,1]\n",
    "display(y_pred_03.sum())\n",
    "logpred = logmodel.predict(X_train_us_std)\n",
    "display(logpred.sum())\n",
    "\n",
    "print('Matrix Original')\n",
    "display(confusion_matrix(y_train_us,logpred))\n",
    "print('')\n",
    "print('Nueva Matrix')\n",
    "display(confusion_matrix(y_train_us,y_pred_03))"
   ]
  },
  {
   "cell_type": "markdown",
   "id": "6d0aefb3",
   "metadata": {},
   "source": [
    "## **KNN**"
   ]
  },
  {
   "cell_type": "code",
   "execution_count": 18,
   "id": "f8832449",
   "metadata": {},
   "outputs": [],
   "source": [
    "from sklearn.neighbors import KNeighborsClassifier\n",
    "from sklearn.model_selection import cross_val_score\n",
    "from sklearn.model_selection import StratifiedKFold"
   ]
  },
  {
   "cell_type": "code",
   "execution_count": 19,
   "id": "24ca187d",
   "metadata": {},
   "outputs": [
    {
     "name": "stdout",
     "output_type": "stream",
     "text": [
      "KNeighborsClassifier(n_neighbors=9)\n",
      "La media del f2 score del modelo es: 0.6568895298275658\n",
      "El mejor hiperparametro C del modelo es:  {'n_neighbors': 9}\n"
     ]
    }
   ],
   "source": [
    "knn = KNeighborsClassifier()\n",
    "k_range = list(range(1, 31, 2))\n",
    "param_grid = dict(n_neighbors=k_range)\n",
    "folds=StratifiedKFold(n_splits=3, random_state=19, shuffle=True)\n",
    "\n",
    "gridknn = GridSearchCV(knn, param_grid, cv=folds, scoring=ftwo_scorer)\n",
    "gridknn.fit(X_train_us_std, y_train_us)\n",
    "\n",
    "print(gridknn.best_estimator_)\n",
    "print(\"La media del f2 score del modelo es:\", gridknn.best_score_)\n",
    "print(\"El mejor hiperparametro n_neighbors del modelo es: \", gridknn.best_params_)"
   ]
  },
  {
   "cell_type": "code",
   "execution_count": 31,
   "id": "eacab95c",
   "metadata": {},
   "outputs": [
    {
     "data": {
      "text/plain": [
       "KNeighborsClassifier(n_neighbors=80)"
      ]
     },
     "execution_count": 31,
     "metadata": {},
     "output_type": "execute_result"
    }
   ],
   "source": [
    "# Fiteado de modelo de knn con mejor hiperparametro n_neighbors\n",
    "best_hip = 9\n",
    "knnmodel = KNeighborsClassifier( n_neighbors = best_hip) \n",
    "knnmodel.fit(X_train_us_std,y_train_us)"
   ]
  },
  {
   "cell_type": "code",
   "execution_count": 32,
   "id": "8f4b2ad2",
   "metadata": {},
   "outputs": [
    {
     "name": "stdout",
     "output_type": "stream",
     "text": [
      "[[11597   776]\n",
      " [ 1468  2244]]\n",
      "[[6833  477]\n",
      " [ 374  554]]\n",
      "0.6279382135661518\n",
      "0.5840185536580224\n"
     ]
    }
   ],
   "source": [
    "knnpredtrain = knnmodel.predict(X_train_us_std)\n",
    "knnpredtest = knnmodel.predict(X_test_us_std)\n",
    "\n",
    "# Creación de las variables score para la posterior evaluación de modelos\n",
    "KNN_ftwo_train = ftwo_scorer(knnmodel,X_train_us_std,y_train_us)\n",
    "KNN_ftwo_test = ftwo_scorer(knnmodel,X_test_us_std,y_test)\n",
    "\n",
    "\n",
    "print(confusion_matrix(y_train_us, knnpredtrain))\n",
    "print(confusion_matrix(y_test, knnpredtest))\n",
    "print(KNN_ftwo_train)\n",
    "print(KNN_ftwo_test)"
   ]
  },
  {
   "cell_type": "markdown",
   "id": "863e1893",
   "metadata": {},
   "source": [
    "## **Naive Bayes**"
   ]
  },
  {
   "cell_type": "code",
   "execution_count": 41,
   "id": "1609da2d",
   "metadata": {},
   "outputs": [
    {
     "data": {
      "text/plain": [
       "GaussianNB()"
      ]
     },
     "execution_count": 41,
     "metadata": {},
     "output_type": "execute_result"
    }
   ],
   "source": [
    "from sklearn.naive_bayes import GaussianNB\n",
    "gaussiannb = GaussianNB()\n",
    "gaussiannb.fit(X_train_us_std, y_train_us)"
   ]
  },
  {
   "cell_type": "code",
   "execution_count": 42,
   "id": "56e39d6c",
   "metadata": {},
   "outputs": [
    {
     "name": "stdout",
     "output_type": "stream",
     "text": [
      "[[10069  2304]\n",
      " [ 1115  2597]]\n",
      "[[5927 1383]\n",
      " [ 282  646]]\n",
      "0.6575016456529443\n",
      "0.5626197526563317\n"
     ]
    }
   ],
   "source": [
    "gaussiannbpredtrain = gaussiannb.predict(X_train_us_std)\n",
    "gaussianpredtest = gaussiannb.predict(X_test_us_std)\n",
    "\n",
    "# Creación de las variables score para la posterior evaluación de modelos\n",
    "GAU_ftwo_train = ftwo_scorer(gaussiannb,X_train_us_std,y_train_us)\n",
    "GAU_ftwo_test = ftwo_scorer(gaussiannb,X_test_us_std,y_test)\n",
    "\n",
    "\n",
    "print(confusion_matrix(y_train_us, gaussiannbpredtrain))\n",
    "print(confusion_matrix(y_test, gaussianpredtest))\n",
    "print(GAU_ftwo_train)\n",
    "print(GAU_ftwo_test)"
   ]
  },
  {
   "cell_type": "markdown",
   "id": "63e7886a",
   "metadata": {},
   "source": [
    "## **Decision TreeClassifier**"
   ]
  },
  {
   "cell_type": "code",
   "execution_count": 46,
   "id": "d073a4cd",
   "metadata": {},
   "outputs": [
    {
     "data": {
      "text/plain": [
       "DecisionTreeClassifier(max_depth=5)"
      ]
     },
     "execution_count": 46,
     "metadata": {},
     "output_type": "execute_result"
    }
   ],
   "source": [
    "from sklearn.tree import DecisionTreeClassifier\n",
    "dtree = DecisionTreeClassifier(criterion='gini', max_depth = 5) #criterion = entopy, gini\n",
    "dtree.fit(X_train_us, y_train_us)"
   ]
  },
  {
   "cell_type": "code",
   "execution_count": 47,
   "id": "39804a29",
   "metadata": {},
   "outputs": [
    {
     "name": "stdout",
     "output_type": "stream",
     "text": [
      "[[11401   972]\n",
      " [  881  2831]]\n",
      "[[6713  597]\n",
      " [ 230  698]]\n",
      "0.7589405393812665\n",
      "0.6970241661673657\n"
     ]
    }
   ],
   "source": [
    "dtreepredtrain = dtree.predict(X_train_us)\n",
    "dtreepredtest = dtree.predict(X_test_us)\n",
    "\n",
    "# Creación de las variables score para la posterior evaluación de modelos\n",
    "DTREE_ftwo_train = ftwo_scorer(dtree,X_train_us,y_train_us)\n",
    "DTREE_ftwo_test = ftwo_scorer(dtree,X_test_us,y_test)\n",
    "\n",
    "\n",
    "print(confusion_matrix(y_train_us, dtreepredtrain))\n",
    "print(confusion_matrix(y_test, dtreepredtest))\n",
    "print(DTREE_ftwo_train)\n",
    "print(DTREE_ftwo_test)"
   ]
  },
  {
   "cell_type": "markdown",
   "id": "ec399659",
   "metadata": {},
   "source": [
    "## **Comparación de los modelos**"
   ]
  },
  {
   "cell_type": "code",
   "execution_count": 36,
   "id": "42408802",
   "metadata": {},
   "outputs": [
    {
     "ename": "NameError",
     "evalue": "name 'DTC' is not defined",
     "output_type": "error",
     "traceback": [
      "\u001b[1;31m---------------------------------------------------------------------------\u001b[0m",
      "\u001b[1;31mNameError\u001b[0m                                 Traceback (most recent call last)",
      "Input \u001b[1;32mIn [36]\u001b[0m, in \u001b[0;36m<cell line: 1>\u001b[1;34m()\u001b[0m\n\u001b[0;32m      1\u001b[0m models \u001b[38;5;241m=\u001b[39m pd\u001b[38;5;241m.\u001b[39mDataFrame({\n\u001b[0;32m      2\u001b[0m                 \u001b[38;5;124m'\u001b[39m\u001b[38;5;124mModels\u001b[39m\u001b[38;5;124m'\u001b[39m: [\u001b[38;5;124m'\u001b[39m\u001b[38;5;124mDecision Tree Classifier\u001b[39m\u001b[38;5;124m'\u001b[39m,\n\u001b[0;32m      3\u001b[0m                            \u001b[38;5;124m'\u001b[39m\u001b[38;5;124mK-Near Neighbors\u001b[39m\u001b[38;5;124m'\u001b[39m, \u001b[38;5;124m'\u001b[39m\u001b[38;5;124mLogistic Model\u001b[39m\u001b[38;5;124m'\u001b[39m, \u001b[38;5;124m'\u001b[39m\u001b[38;5;124mGausian NB\u001b[39m\u001b[38;5;124m'\u001b[39m],\n\u001b[1;32m----> 4\u001b[0m                 \u001b[38;5;124m'\u001b[39m\u001b[38;5;124mScore Train\u001b[39m\u001b[38;5;124m'\u001b[39m:  [\u001b[43mDTC\u001b[49m, K\u001b[38;5;241m-\u001b[39mNEAR, LOGCV, GAUSIAN],\n\u001b[0;32m      5\u001b[0m                 \u001b[38;5;124m'\u001b[39m\u001b[38;5;124mScore Test\u001b[39m\u001b[38;5;124m'\u001b[39m: [DTC, K\u001b[38;5;241m-\u001b[39mNEAR, LOGCV, GAUSIAN]})\n\u001b[0;32m      7\u001b[0m models\u001b[38;5;241m.\u001b[39msort_values(by\u001b[38;5;241m=\u001b[39m\u001b[38;5;124m'\u001b[39m\u001b[38;5;124mScore\u001b[39m\u001b[38;5;124m'\u001b[39m, ascending\u001b[38;5;241m=\u001b[39m\u001b[38;5;28;01mFalse\u001b[39;00m)\n",
      "\u001b[1;31mNameError\u001b[0m: name 'DTC' is not defined"
     ]
    }
   ],
   "source": [
    "models = pd.DataFrame({\n",
    "                'Models': ['Decision Tree Classifier',\n",
    "                           'K-Near Neighbors', 'Logistic Model', 'Gausian NB'],\n",
    "                'Score Train':  [DTC, K-NEAR, LG_recall_train, GAUSIAN],\n",
    "                'Score Test': [DTC, K-NEAR, LG_recall_test, GAUSIAN]})\n",
    "\n",
    "models.sort_values(by='Score', ascending=False)"
   ]
  },
  {
   "cell_type": "code",
   "execution_count": null,
   "id": "fe97d978",
   "metadata": {},
   "outputs": [],
   "source": []
  },
  {
   "cell_type": "code",
   "execution_count": null,
   "id": "3bf32a8e",
   "metadata": {},
   "outputs": [],
   "source": []
  },
  {
   "cell_type": "markdown",
   "id": "c81d072c",
   "metadata": {},
   "source": [
    "# graficos para ver si quedan"
   ]
  },
  {
   "cell_type": "code",
   "execution_count": null,
   "id": "0838ea1e",
   "metadata": {},
   "outputs": [],
   "source": [
    "lr_false_positive_rate,lr_true_positive_rate,lr_threshold = roc_curve(y_test,lr_predict)\n",
    "nb_false_positive_rate,nb_true_positive_rate,nb_threshold = roc_curve(y_test,nbpred)\n",
    "rf_false_positive_rate,rf_true_positive_rate,rf_threshold = roc_curve(y_test,rf_predicted)                                                             \n",
    "xgb_false_positive_rate,xgb_true_positive_rate,xgb_threshold = roc_curve(y_test,xgb_predicted)\n",
    "knn_false_positive_rate,knn_true_positive_rate,knn_threshold = roc_curve(y_test,knn_predicted)\n",
    "dt_false_positive_rate,dt_true_positive_rate,dt_threshold = roc_curve(y_test,dt_predicted)\n",
    "svc_false_positive_rate,svc_true_positive_rate,svc_threshold = roc_curve(y_test,svc_predicted)\n",
    "\n",
    "\n",
    "sns.set_style('whitegrid')\n",
    "plt.figure(figsize=(10,5))\n",
    "plt.title('Reciver Operating Characterstic Curve')\n",
    "plt.plot(lr_false_positive_rate,lr_true_positive_rate,label='Logistic Regression')\n",
    "plt.plot(nb_false_positive_rate,nb_true_positive_rate,label='Naive Bayes')\n",
    "plt.plot(rf_false_positive_rate,rf_true_positive_rate,label='Random Forest')\n",
    "plt.plot(xgb_false_positive_rate,xgb_true_positive_rate,label='Extreme Gradient Boost')\n",
    "plt.plot(knn_false_positive_rate,knn_true_positive_rate,label='K-Nearest Neighbor')\n",
    "plt.plot(dt_false_positive_rate,dt_true_positive_rate,label='Desion Tree')\n",
    "plt.plot(svc_false_positive_rate,svc_true_positive_rate,label='Support Vector Classifier')\n",
    "plt.plot([0,1],ls='--')\n",
    "plt.plot([0,0],[1,0],c='.5')\n",
    "plt.plot([1,1],c='.5')\n",
    "plt.ylabel('True positive rate')\n",
    "plt.xlabel('False positive rate')\n",
    "plt.legend()\n",
    "plt.show()"
   ]
  },
  {
   "cell_type": "code",
   "execution_count": null,
   "id": "a53635f7",
   "metadata": {},
   "outputs": [],
   "source": []
  },
  {
   "cell_type": "code",
   "execution_count": null,
   "id": "402d0660",
   "metadata": {},
   "outputs": [],
   "source": []
  },
  {
   "cell_type": "code",
   "execution_count": null,
   "id": "c615309f",
   "metadata": {},
   "outputs": [],
   "source": [
    "from sklearn.metrics import roc_curve\n",
    "# Gradient Boosting Classifier\n",
    "# Neural Classifier\n",
    "# Naives Bayes Classifier\n",
    "grd_fpr, grd_tpr, thresold = roc_curve(y_train, y_scores)\n",
    "neu_fpr, neu_tpr, neu_threshold = roc_curve(y_train, neural_y_scores)\n",
    "nav_fpr, nav_tpr, nav_threshold = roc_curve(y_train, naives_y_scores)"
   ]
  },
  {
   "cell_type": "code",
   "execution_count": null,
   "id": "c9bf7d30",
   "metadata": {},
   "outputs": [],
   "source": [
    "def graph_roc_curve(false_positive_rate, true_positive_rate, label=None):\n",
    "    plt.figure(figsize=(10,6))\n",
    "    plt.title('ROC Curve \\n Gradient Boosting Classifier', fontsize=18)\n",
    "    plt.plot(false_positive_rate, true_positive_rate, label=label)\n",
    "    plt.plot([0, 1], [0, 1], '#0C8EE0')\n",
    "    plt.axis([0, 1, 0, 1])\n",
    "    plt.xlabel('False Positive Rate', fontsize=16)\n",
    "    plt.ylabel('True Positive Rate', fontsize=16)\n",
    "    plt.annotate('ROC Score of 91.73% \\n (Not the best score)', xy=(0.25, 0.9), xytext=(0.4, 0.85),\n",
    "            arrowprops=dict(facecolor='#F75118', shrink=0.05),\n",
    "            )\n",
    "    plt.annotate('Minimum ROC Score of 50% \\n (This is the minimum score to get)', xy=(0.5, 0.5), xytext=(0.6, 0.3),\n",
    "                arrowprops=dict(facecolor='#F75118', shrink=0.05),\n",
    "                )\n",
    "    \n",
    "    \n",
    "graph_roc_curve(grd_fpr, grd_tpr, threshold)\n",
    "plt.show()"
   ]
  },
  {
   "cell_type": "code",
   "execution_count": null,
   "id": "ad659e27",
   "metadata": {},
   "outputs": [],
   "source": []
  },
  {
   "cell_type": "code",
   "execution_count": null,
   "id": "ab70957a",
   "metadata": {},
   "outputs": [],
   "source": [
    "from sklearn.metrics import roc_auc_score\n",
    "\n",
    "print('Gradient Boost Classifier Score: ', roc_auc_score(y_train, y_scores))\n",
    "print('Neural Classifier Score: ', roc_auc_score(y_train, neural_y_scores))\n",
    "print('Naives Bayes Classifier: ', roc_auc_score(y_train, naives_y_scores))"
   ]
  },
  {
   "cell_type": "code",
   "execution_count": null,
   "id": "4d09d71a",
   "metadata": {},
   "outputs": [],
   "source": [
    "def graph_roc_curve_multiple(grd_fpr, grd_tpr, neu_fpr, neu_tpr, nav_fpr, nav_tpr):\n",
    "    plt.figure(figsize=(8,6))\n",
    "    plt.title('ROC Curve \\n Top 3 Classifiers', fontsize=18)\n",
    "    plt.plot(grd_fpr, grd_tpr, label='Gradient Boosting Classifier (Score = 91.72%)')\n",
    "    plt.plot(neu_fpr, neu_tpr, label='Neural Classifier (Score = 91.54%)')\n",
    "    plt.plot(nav_fpr, nav_tpr, label='Naives Bayes Classifier (Score = 80.33%)')\n",
    "    plt.plot([0, 1], [0, 1], 'k--')\n",
    "    plt.axis([0, 1, 0, 1])\n",
    "    plt.xlabel('False Positive Rate', fontsize=16)\n",
    "    plt.ylabel('True Positive Rate', fontsize=16)\n",
    "    plt.annotate('Minimum ROC Score of 50% \\n (This is the minimum score to get)', xy=(0.5, 0.5), xytext=(0.6, 0.3),\n",
    "                arrowprops=dict(facecolor='#6E726D', shrink=0.05),\n",
    "                )\n",
    "    plt.legend()\n",
    "    \n",
    "graph_roc_curve_multiple(grd_fpr, grd_tpr, neu_fpr, neu_tpr, nav_fpr, nav_tpr)\n",
    "plt.show()"
   ]
  }
 ],
 "metadata": {
  "kernelspec": {
   "display_name": "Python 3 (ipykernel)",
   "language": "python",
   "name": "python3"
  },
  "language_info": {
   "codemirror_mode": {
    "name": "ipython",
    "version": 3
   },
   "file_extension": ".py",
   "mimetype": "text/x-python",
   "name": "python",
   "nbconvert_exporter": "python",
   "pygments_lexer": "ipython3",
   "version": "3.8.13"
  }
 },
 "nbformat": 4,
 "nbformat_minor": 5
}
